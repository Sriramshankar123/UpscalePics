{
 "cells": [
  {
   "cell_type": "code",
   "execution_count": 366,
   "id": "3e953184",
   "metadata": {
    "execution": {
     "iopub.execute_input": "2022-10-29T14:26:04.646850Z",
     "iopub.status.busy": "2022-10-29T14:26:04.645673Z",
     "iopub.status.idle": "2022-10-29T14:26:04.656983Z",
     "shell.execute_reply": "2022-10-29T14:26:04.656239Z"
    },
    "papermill": {
     "duration": 0.034198,
     "end_time": "2022-10-29T14:26:04.659431",
     "exception": false,
     "start_time": "2022-10-29T14:26:04.625233",
     "status": "completed"
    },
    "tags": []
   },
   "outputs": [],
   "source": [
    "#Importing Important Libraries\n",
    "import pandas as pd\n",
    "import numpy as np\n",
    "from matplotlib import pyplot as plt\n",
    "%matplotlib inline\n",
    "import matplotlib\n",
    "matplotlib.rcParams['figure.figsize'] = (20,10)"
   ]
  },
  {
   "attachments": {},
   "cell_type": "markdown",
   "id": "4a40fa98",
   "metadata": {
    "papermill": {
     "duration": 0.018946,
     "end_time": "2022-10-29T14:26:04.697588",
     "exception": false,
     "start_time": "2022-10-29T14:26:04.678642",
     "status": "completed"
    },
    "tags": []
   },
   "source": [
    "### Loading Data\n"
   ]
  },
  {
   "cell_type": "code",
   "execution_count": 367,
   "id": "70722092",
   "metadata": {
    "execution": {
     "iopub.execute_input": "2022-10-29T14:26:04.738111Z",
     "iopub.status.busy": "2022-10-29T14:26:04.737667Z",
     "iopub.status.idle": "2022-10-29T14:26:04.813646Z",
     "shell.execute_reply": "2022-10-29T14:26:04.812596Z"
    },
    "papermill": {
     "duration": 0.099218,
     "end_time": "2022-10-29T14:26:04.816204",
     "exception": false,
     "start_time": "2022-10-29T14:26:04.716986",
     "status": "completed"
    },
    "tags": []
   },
   "outputs": [
    {
     "data": {
      "text/html": [
       "<div>\n",
       "<style scoped>\n",
       "    .dataframe tbody tr th:only-of-type {\n",
       "        vertical-align: middle;\n",
       "    }\n",
       "\n",
       "    .dataframe tbody tr th {\n",
       "        vertical-align: top;\n",
       "    }\n",
       "\n",
       "    .dataframe thead th {\n",
       "        text-align: right;\n",
       "    }\n",
       "</style>\n",
       "<table border=\"1\" class=\"dataframe\">\n",
       "  <thead>\n",
       "    <tr style=\"text-align: right;\">\n",
       "      <th></th>\n",
       "      <th>area_type</th>\n",
       "      <th>availability</th>\n",
       "      <th>location</th>\n",
       "      <th>size</th>\n",
       "      <th>society</th>\n",
       "      <th>total_sqft</th>\n",
       "      <th>bath</th>\n",
       "      <th>balcony</th>\n",
       "      <th>price</th>\n",
       "    </tr>\n",
       "  </thead>\n",
       "  <tbody>\n",
       "    <tr>\n",
       "      <th>0</th>\n",
       "      <td>Super built-up  Area</td>\n",
       "      <td>19-Dec</td>\n",
       "      <td>Electronic City Phase II</td>\n",
       "      <td>2 BHK</td>\n",
       "      <td>Coomee</td>\n",
       "      <td>1056</td>\n",
       "      <td>2.0</td>\n",
       "      <td>1.0</td>\n",
       "      <td>39.07</td>\n",
       "    </tr>\n",
       "    <tr>\n",
       "      <th>1</th>\n",
       "      <td>Plot  Area</td>\n",
       "      <td>Ready To Move</td>\n",
       "      <td>Chikka Tirupathi</td>\n",
       "      <td>4 Bedroom</td>\n",
       "      <td>Theanmp</td>\n",
       "      <td>2600</td>\n",
       "      <td>5.0</td>\n",
       "      <td>3.0</td>\n",
       "      <td>120.00</td>\n",
       "    </tr>\n",
       "    <tr>\n",
       "      <th>2</th>\n",
       "      <td>Built-up  Area</td>\n",
       "      <td>Ready To Move</td>\n",
       "      <td>Uttarahalli</td>\n",
       "      <td>3 BHK</td>\n",
       "      <td>NaN</td>\n",
       "      <td>1440</td>\n",
       "      <td>2.0</td>\n",
       "      <td>3.0</td>\n",
       "      <td>62.00</td>\n",
       "    </tr>\n",
       "    <tr>\n",
       "      <th>3</th>\n",
       "      <td>Super built-up  Area</td>\n",
       "      <td>Ready To Move</td>\n",
       "      <td>Lingadheeranahalli</td>\n",
       "      <td>3 BHK</td>\n",
       "      <td>Soiewre</td>\n",
       "      <td>1521</td>\n",
       "      <td>3.0</td>\n",
       "      <td>1.0</td>\n",
       "      <td>95.00</td>\n",
       "    </tr>\n",
       "    <tr>\n",
       "      <th>4</th>\n",
       "      <td>Super built-up  Area</td>\n",
       "      <td>Ready To Move</td>\n",
       "      <td>Kothanur</td>\n",
       "      <td>2 BHK</td>\n",
       "      <td>NaN</td>\n",
       "      <td>1200</td>\n",
       "      <td>2.0</td>\n",
       "      <td>1.0</td>\n",
       "      <td>51.00</td>\n",
       "    </tr>\n",
       "  </tbody>\n",
       "</table>\n",
       "</div>"
      ],
      "text/plain": [
       "              area_type   availability                  location       size  \\\n",
       "0  Super built-up  Area         19-Dec  Electronic City Phase II      2 BHK   \n",
       "1            Plot  Area  Ready To Move          Chikka Tirupathi  4 Bedroom   \n",
       "2        Built-up  Area  Ready To Move               Uttarahalli      3 BHK   \n",
       "3  Super built-up  Area  Ready To Move        Lingadheeranahalli      3 BHK   \n",
       "4  Super built-up  Area  Ready To Move                  Kothanur      2 BHK   \n",
       "\n",
       "   society total_sqft  bath  balcony   price  \n",
       "0  Coomee        1056   2.0      1.0   39.07  \n",
       "1  Theanmp       2600   5.0      3.0  120.00  \n",
       "2      NaN       1440   2.0      3.0   62.00  \n",
       "3  Soiewre       1521   3.0      1.0   95.00  \n",
       "4      NaN       1200   2.0      1.0   51.00  "
      ]
     },
     "execution_count": 367,
     "metadata": {},
     "output_type": "execute_result"
    }
   ],
   "source": [
    "#Loading our Dataset\n",
    "df1 = pd.read_csv('Bengaluru_House_Data.csv')\n",
    "df1.head()"
   ]
  },
  {
   "cell_type": "code",
   "execution_count": 368,
   "id": "a61102b0",
   "metadata": {
    "execution": {
     "iopub.execute_input": "2022-10-29T14:26:04.857207Z",
     "iopub.status.busy": "2022-10-29T14:26:04.856848Z",
     "iopub.status.idle": "2022-10-29T14:26:04.862787Z",
     "shell.execute_reply": "2022-10-29T14:26:04.861558Z"
    },
    "papermill": {
     "duration": 0.02928,
     "end_time": "2022-10-29T14:26:04.865196",
     "exception": false,
     "start_time": "2022-10-29T14:26:04.835916",
     "status": "completed"
    },
    "tags": []
   },
   "outputs": [
    {
     "data": {
      "text/plain": [
       "(13320, 9)"
      ]
     },
     "execution_count": 368,
     "metadata": {},
     "output_type": "execute_result"
    }
   ],
   "source": [
    "#Viewing shape\n",
    "df1.shape"
   ]
  },
  {
   "attachments": {},
   "cell_type": "markdown",
   "id": "db1b63d0",
   "metadata": {
    "papermill": {
     "duration": 0.019837,
     "end_time": "2022-10-29T14:26:04.904580",
     "exception": false,
     "start_time": "2022-10-29T14:26:04.884743",
     "status": "completed"
    },
    "tags": []
   },
   "source": [
    "Here we have loaded the dataset of Bengaluru House Prices. We can see that it has total of 13320 rows and 9 columns."
   ]
  },
  {
   "cell_type": "code",
   "execution_count": 369,
   "id": "ad247363",
   "metadata": {
    "execution": {
     "iopub.execute_input": "2022-10-29T14:26:04.945734Z",
     "iopub.status.busy": "2022-10-29T14:26:04.945292Z",
     "iopub.status.idle": "2022-10-29T14:26:04.952779Z",
     "shell.execute_reply": "2022-10-29T14:26:04.951025Z"
    },
    "papermill": {
     "duration": 0.030609,
     "end_time": "2022-10-29T14:26:04.954908",
     "exception": false,
     "start_time": "2022-10-29T14:26:04.924299",
     "status": "completed"
    },
    "tags": []
   },
   "outputs": [
    {
     "data": {
      "text/plain": [
       "Index(['area_type', 'availability', 'location', 'size', 'society',\n",
       "       'total_sqft', 'bath', 'balcony', 'price'],\n",
       "      dtype='object')"
      ]
     },
     "execution_count": 369,
     "metadata": {},
     "output_type": "execute_result"
    }
   ],
   "source": [
    "#Columns in the dataset\n",
    "df1.columns"
   ]
  },
  {
   "cell_type": "code",
   "execution_count": 370,
   "id": "8c1e7b1d",
   "metadata": {
    "execution": {
     "iopub.execute_input": "2022-10-29T14:26:04.996744Z",
     "iopub.status.busy": "2022-10-29T14:26:04.996385Z",
     "iopub.status.idle": "2022-10-29T14:26:05.010702Z",
     "shell.execute_reply": "2022-10-29T14:26:05.009378Z"
    },
    "papermill": {
     "duration": 0.037596,
     "end_time": "2022-10-29T14:26:05.012518",
     "exception": false,
     "start_time": "2022-10-29T14:26:04.974922",
     "status": "completed"
    },
    "tags": []
   },
   "outputs": [
    {
     "data": {
      "text/plain": [
       "array(['Super built-up  Area', 'Plot  Area', 'Built-up  Area',\n",
       "       'Carpet  Area'], dtype=object)"
      ]
     },
     "execution_count": 370,
     "metadata": {},
     "output_type": "execute_result"
    }
   ],
   "source": [
    "#Viewing unique area type\n",
    "df1['area_type'].unique()\n"
   ]
  },
  {
   "cell_type": "code",
   "execution_count": 371,
   "id": "c8a18ad5",
   "metadata": {},
   "outputs": [
    {
     "data": {
      "image/png": "[encoded data removed]",
      "text/plain": [
       "<Figure size 1440x720 with 1 Axes>"
      ]
     },
     "metadata": {},
     "output_type": "display_data"
    }
   ],
   "source": [
    "area_counts = df1[\"area_type\"].value_counts().to_dict()\n",
    "\n",
    "# create a pie chart of the value counts\n",
    "plt.pie(area_counts.values(), labels=area_counts.keys())\n",
    "\n",
    "# add a title to the chart\n",
    "plt.title(\"Distribution of area types\")\n",
    "# display the chart\n",
    "plt.show()"
   ]
  },
  {
   "cell_type": "code",
   "execution_count": 372,
   "id": "433040e3",
   "metadata": {
    "execution": {
     "iopub.execute_input": "2022-10-29T14:26:05.053740Z",
     "iopub.status.busy": "2022-10-29T14:26:05.053188Z",
     "iopub.status.idle": "2022-10-29T14:26:05.062948Z",
     "shell.execute_reply": "2022-10-29T14:26:05.061473Z"
    },
    "papermill": {
     "duration": 0.033649,
     "end_time": "2022-10-29T14:26:05.065717",
     "exception": false,
     "start_time": "2022-10-29T14:26:05.032068",
     "status": "completed"
    },
    "tags": []
   },
   "outputs": [
    {
     "data": {
      "text/plain": [
       "Super built-up  Area    8790\n",
       "Built-up  Area          2418\n",
       "Plot  Area              2025\n",
       "Carpet  Area              87\n",
       "Name: area_type, dtype: int64"
      ]
     },
     "execution_count": 372,
     "metadata": {},
     "output_type": "execute_result"
    }
   ],
   "source": [
    "#Viewing the number of unique area_types\n",
    "df1['area_type'].value_counts()"
   ]
  },
  {
   "cell_type": "code",
   "execution_count": 373,
   "id": "be92cf99",
   "metadata": {},
   "outputs": [],
   "source": [
    "df1=df1[df1['area_type']!=\"Carpet  Area\"]"
   ]
  },
  {
   "cell_type": "code",
   "execution_count": 374,
   "id": "2e8316f0",
   "metadata": {},
   "outputs": [
    {
     "data": {
      "image/png": "[encoded data removed]",
      "text/plain": [
       "<Figure size 1440x720 with 1 Axes>"
      ]
     },
     "metadata": {},
     "output_type": "display_data"
    }
   ],
   "source": [
    "area_counts = df1[\"area_type\"].value_counts().to_dict()\n",
    "\n",
    "# create a pie chart of the value counts\n",
    "plt.pie(area_counts.values(), labels=area_counts.keys())\n",
    "\n",
    "# add a title to the chart\n",
    "plt.title(\"Distribution of area types\")\n",
    "# display the chart\n",
    "plt.show()"
   ]
  },
  {
   "cell_type": "code",
   "execution_count": 375,
   "id": "0627f45f",
   "metadata": {},
   "outputs": [
    {
     "data": {
      "text/plain": [
       "array([ 1.,  3., nan,  2.,  0.])"
      ]
     },
     "execution_count": 375,
     "metadata": {},
     "output_type": "execute_result"
    }
   ],
   "source": [
    "#Viewing unique balcony\n",
    "df1['balcony'].unique()\n"
   ]
  },
  {
   "cell_type": "code",
   "execution_count": 376,
   "id": "55b5fccd",
   "metadata": {},
   "outputs": [
    {
     "data": {
      "text/plain": [
       "2.0    5093\n",
       "1.0    4864\n",
       "3.0    1658\n",
       "0.0    1014\n",
       "Name: balcony, dtype: int64"
      ]
     },
     "execution_count": 376,
     "metadata": {},
     "output_type": "execute_result"
    }
   ],
   "source": [
    "#Viewing the number of unique balcony\n",
    "df1['balcony'].value_counts()"
   ]
  },
  {
   "attachments": {},
   "cell_type": "markdown",
   "id": "d0afbbd6",
   "metadata": {
    "papermill": {
     "duration": 0.019659,
     "end_time": "2022-10-29T14:26:05.105459",
     "exception": false,
     "start_time": "2022-10-29T14:26:05.085800",
     "status": "completed"
    },
    "tags": []
   },
   "source": [
    "Some features like availability, balcony etc. are not needed to make our predictions therefore we will drop them."
   ]
  },
  {
   "cell_type": "code",
   "execution_count": 377,
   "id": "80fe3e61",
   "metadata": {
    "execution": {
     "iopub.execute_input": "2022-10-29T14:26:05.147992Z",
     "iopub.status.busy": "2022-10-29T14:26:05.147348Z",
     "iopub.status.idle": "2022-10-29T14:26:05.157145Z",
     "shell.execute_reply": "2022-10-29T14:26:05.156174Z"
    },
    "papermill": {
     "duration": 0.033714,
     "end_time": "2022-10-29T14:26:05.159658",
     "exception": false,
     "start_time": "2022-10-29T14:26:05.125944",
     "status": "completed"
    },
    "tags": []
   },
   "outputs": [
    {
     "data": {
      "text/plain": [
       "(13233, 6)"
      ]
     },
     "execution_count": 377,
     "metadata": {},
     "output_type": "execute_result"
    }
   ],
   "source": [
    "#Dropping unnecessary columns\n",
    "df2 = df1.drop([ 'society' , 'balcony' , 'availability'] , axis = 'columns')\n",
    "df2.shape"
   ]
  },
  {
   "attachments": {},
   "cell_type": "markdown",
   "id": "5bbb4d06",
   "metadata": {
    "papermill": {
     "duration": 0.020384,
     "end_time": "2022-10-29T14:26:05.201014",
     "exception": false,
     "start_time": "2022-10-29T14:26:05.180630",
     "status": "completed"
    },
    "tags": []
   },
   "source": [
    "Now we are left with 6 columns only."
   ]
  },
  {
   "attachments": {},
   "cell_type": "markdown",
   "id": "a8ca5283",
   "metadata": {
    "papermill": {
     "duration": 0.020159,
     "end_time": "2022-10-29T14:26:05.241666",
     "exception": false,
     "start_time": "2022-10-29T14:26:05.221507",
     "status": "completed"
    },
    "tags": []
   },
   "source": [
    "### Data Cleaning"
   ]
  },
  {
   "attachments": {},
   "cell_type": "markdown",
   "id": "eb14d50d",
   "metadata": {
    "papermill": {
     "duration": 0.02,
     "end_time": "2022-10-29T14:26:05.282160",
     "exception": false,
     "start_time": "2022-10-29T14:26:05.262160",
     "status": "completed"
    },
    "tags": []
   },
   "source": [
    "Now we will look into our data for missing values, if there are missing values we will fill them."
   ]
  },
  {
   "cell_type": "code",
   "execution_count": 378,
   "id": "179aaab7",
   "metadata": {
    "execution": {
     "iopub.execute_input": "2022-10-29T14:26:05.325823Z",
     "iopub.status.busy": "2022-10-29T14:26:05.325200Z",
     "iopub.status.idle": "2022-10-29T14:26:05.333893Z",
     "shell.execute_reply": "2022-10-29T14:26:05.333256Z"
    },
    "papermill": {
     "duration": 0.032638,
     "end_time": "2022-10-29T14:26:05.335661",
     "exception": false,
     "start_time": "2022-10-29T14:26:05.303023",
     "status": "completed"
    },
    "tags": []
   },
   "outputs": [
    {
     "data": {
      "text/plain": [
       "area_type      0\n",
       "location       1\n",
       "size          16\n",
       "total_sqft     0\n",
       "bath          73\n",
       "price          0\n",
       "dtype: int64"
      ]
     },
     "execution_count": 378,
     "metadata": {},
     "output_type": "execute_result"
    }
   ],
   "source": [
    "#Viewing rows with missing values\n",
    "df2.isnull().sum()"
   ]
  },
  {
   "cell_type": "code",
   "execution_count": 379,
   "id": "040620fe",
   "metadata": {
    "execution": {
     "iopub.execute_input": "2022-10-29T14:26:05.417625Z",
     "iopub.status.busy": "2022-10-29T14:26:05.416989Z",
     "iopub.status.idle": "2022-10-29T14:26:05.425460Z",
     "shell.execute_reply": "2022-10-29T14:26:05.424762Z"
    },
    "papermill": {
     "duration": 0.031734,
     "end_time": "2022-10-29T14:26:05.427612",
     "exception": false,
     "start_time": "2022-10-29T14:26:05.395878",
     "status": "completed"
    },
    "tags": []
   },
   "outputs": [],
   "source": [
    "#Dropping rows with missing values\n",
    "df3 = df2.dropna()"
   ]
  },
  {
   "cell_type": "code",
   "execution_count": 380,
   "id": "132c7198",
   "metadata": {
    "execution": {
     "iopub.execute_input": "2022-10-29T14:26:05.469778Z",
     "iopub.status.busy": "2022-10-29T14:26:05.469156Z",
     "iopub.status.idle": "2022-10-29T14:26:05.478189Z",
     "shell.execute_reply": "2022-10-29T14:26:05.477365Z"
    },
    "papermill": {
     "duration": 0.032564,
     "end_time": "2022-10-29T14:26:05.480275",
     "exception": false,
     "start_time": "2022-10-29T14:26:05.447711",
     "status": "completed"
    },
    "tags": []
   },
   "outputs": [
    {
     "data": {
      "text/plain": [
       "area_type     0\n",
       "location      0\n",
       "size          0\n",
       "total_sqft    0\n",
       "bath          0\n",
       "price         0\n",
       "dtype: int64"
      ]
     },
     "execution_count": 380,
     "metadata": {},
     "output_type": "execute_result"
    }
   ],
   "source": [
    "#Viewing df3 for missing values\n",
    "df3.isnull().sum()"
   ]
  },
  {
   "attachments": {},
   "cell_type": "markdown",
   "id": "ef7c006c",
   "metadata": {
    "papermill": {
     "duration": 0.019587,
     "end_time": "2022-10-29T14:26:05.520127",
     "exception": false,
     "start_time": "2022-10-29T14:26:05.500540",
     "status": "completed"
    },
    "tags": []
   },
   "source": [
    "Now we can see that there are no missing values in our dataset."
   ]
  },
  {
   "cell_type": "code",
   "execution_count": 381,
   "id": "8842394d",
   "metadata": {
    "execution": {
     "iopub.execute_input": "2022-10-29T14:26:05.562885Z",
     "iopub.status.busy": "2022-10-29T14:26:05.562256Z",
     "iopub.status.idle": "2022-10-29T14:26:05.568745Z",
     "shell.execute_reply": "2022-10-29T14:26:05.567722Z"
    },
    "papermill": {
     "duration": 0.03003,
     "end_time": "2022-10-29T14:26:05.570636",
     "exception": false,
     "start_time": "2022-10-29T14:26:05.540606",
     "status": "completed"
    },
    "tags": []
   },
   "outputs": [
    {
     "data": {
      "text/plain": [
       "(13159, 6)"
      ]
     },
     "execution_count": 381,
     "metadata": {},
     "output_type": "execute_result"
    }
   ],
   "source": [
    "df3.shape"
   ]
  },
  {
   "attachments": {},
   "cell_type": "markdown",
   "id": "c02a2322",
   "metadata": {
    "papermill": {
     "duration": 0.019999,
     "end_time": "2022-10-29T14:26:05.611021",
     "exception": false,
     "start_time": "2022-10-29T14:26:05.591022",
     "status": "completed"
    },
    "tags": []
   },
   "source": [
    "Now our our dataset has 13246 rows because we dropped some rows with missing values."
   ]
  },
  {
   "attachments": {},
   "cell_type": "markdown",
   "id": "8e86e83a",
   "metadata": {
    "papermill": {
     "duration": 0.020129,
     "end_time": "2022-10-29T14:26:05.651327",
     "exception": false,
     "start_time": "2022-10-29T14:26:05.631198",
     "status": "completed"
    },
    "tags": []
   },
   "source": [
    "### Feature Engineering"
   ]
  },
  {
   "attachments": {},
   "cell_type": "markdown",
   "id": "5c7f25fc",
   "metadata": {
    "papermill": {
     "duration": 0.020166,
     "end_time": "2022-10-29T14:26:05.691763",
     "exception": false,
     "start_time": "2022-10-29T14:26:05.671597",
     "status": "completed"
    },
    "tags": []
   },
   "source": [
    "**Size**"
   ]
  },
  {
   "cell_type": "code",
   "execution_count": 382,
   "id": "badd223d",
   "metadata": {
    "execution": {
     "iopub.execute_input": "2022-10-29T14:26:05.734218Z",
     "iopub.status.busy": "2022-10-29T14:26:05.733627Z",
     "iopub.status.idle": "2022-10-29T14:26:05.741062Z",
     "shell.execute_reply": "2022-10-29T14:26:05.739968Z"
    },
    "papermill": {
     "duration": 0.030926,
     "end_time": "2022-10-29T14:26:05.742962",
     "exception": false,
     "start_time": "2022-10-29T14:26:05.712036",
     "status": "completed"
    },
    "tags": []
   },
   "outputs": [
    {
     "data": {
      "text/plain": [
       "array(['2 BHK', '4 Bedroom', '3 BHK', '4 BHK', '6 Bedroom', '3 Bedroom',\n",
       "       '1 BHK', '1 RK', '1 Bedroom', '8 Bedroom', '2 Bedroom',\n",
       "       '7 Bedroom', '5 BHK', '7 BHK', '6 BHK', '5 Bedroom', '11 BHK',\n",
       "       '9 BHK', '9 Bedroom', '27 BHK', '10 Bedroom', '11 Bedroom',\n",
       "       '10 BHK', '19 BHK', '16 BHK', '43 Bedroom', '14 BHK', '8 BHK',\n",
       "       '12 Bedroom', '13 BHK', '18 Bedroom'], dtype=object)"
      ]
     },
     "execution_count": 382,
     "metadata": {},
     "output_type": "execute_result"
    }
   ],
   "source": [
    "# unique values in Size column\n",
    "df3['size'].unique()"
   ]
  },
  {
   "cell_type": "code",
   "execution_count": 383,
   "id": "b59c6f34",
   "metadata": {
    "execution": {
     "iopub.execute_input": "2022-10-29T14:26:05.830661Z",
     "iopub.status.busy": "2022-10-29T14:26:05.829842Z",
     "iopub.status.idle": "2022-10-29T14:26:05.844976Z",
     "shell.execute_reply": "2022-10-29T14:26:05.844042Z"
    },
    "papermill": {
     "duration": 0.039953,
     "end_time": "2022-10-29T14:26:05.847971",
     "exception": false,
     "start_time": "2022-10-29T14:26:05.808018",
     "status": "completed"
    },
    "tags": []
   },
   "outputs": [
    {
     "name": "stderr",
     "output_type": "stream",
     "text": [
      "C:\\Users\\ashiq\\AppData\\Local\\Temp/ipykernel_38228/2117760272.py:2: SettingWithCopyWarning: \n",
      "A value is trying to be set on a copy of a slice from a DataFrame.\n",
      "Try using .loc[row_indexer,col_indexer] = value instead\n",
      "\n",
      "See the caveats in the documentation: https://pandas.pydata.org/pandas-docs/stable/user_guide/indexing.html#returning-a-view-versus-a-copy\n",
      "  df3['bhk'] = df3['size'].apply(lambda x: int(x.split(' ')[0]))\n"
     ]
    }
   ],
   "source": [
    "#Creating a new column bhk\n",
    "df3['bhk'] = df3['size'].apply(lambda x: int(x.split(' ')[0]))"
   ]
  },
  {
   "cell_type": "code",
   "execution_count": 384,
   "id": "094cc49a",
   "metadata": {
    "execution": {
     "iopub.execute_input": "2022-10-29T14:26:05.892680Z",
     "iopub.status.busy": "2022-10-29T14:26:05.892035Z",
     "iopub.status.idle": "2022-10-29T14:26:05.900996Z",
     "shell.execute_reply": "2022-10-29T14:26:05.899669Z"
    },
    "papermill": {
     "duration": 0.033758,
     "end_time": "2022-10-29T14:26:05.903429",
     "exception": false,
     "start_time": "2022-10-29T14:26:05.869671",
     "status": "completed"
    },
    "tags": []
   },
   "outputs": [
    {
     "data": {
      "text/plain": [
       "array([ 2,  4,  3,  6,  1,  8,  7,  5, 11,  9, 27, 10, 19, 16, 43, 14, 12,\n",
       "       13, 18], dtype=int64)"
      ]
     },
     "execution_count": 384,
     "metadata": {},
     "output_type": "execute_result"
    }
   ],
   "source": [
    "#Viewing unique values of bhk\n",
    "df3['bhk'].unique()"
   ]
  },
  {
   "attachments": {},
   "cell_type": "markdown",
   "id": "2b34bb89",
   "metadata": {
    "papermill": {
     "duration": 0.020896,
     "end_time": "2022-10-29T14:26:05.946821",
     "exception": false,
     "start_time": "2022-10-29T14:26:05.925925",
     "status": "completed"
    },
    "tags": []
   },
   "source": [
    "Now we can see that we only have numbers for each bhk. Here we can see that some houses have a lot of rooms let's see them."
   ]
  },
  {
   "cell_type": "code",
   "execution_count": 385,
   "id": "427ea70c",
   "metadata": {
    "execution": {
     "iopub.execute_input": "2022-10-29T14:26:05.991508Z",
     "iopub.status.busy": "2022-10-29T14:26:05.991131Z",
     "iopub.status.idle": "2022-10-29T14:26:06.004772Z",
     "shell.execute_reply": "2022-10-29T14:26:06.003588Z"
    },
    "papermill": {
     "duration": 0.038894,
     "end_time": "2022-10-29T14:26:06.007029",
     "exception": false,
     "start_time": "2022-10-29T14:26:05.968135",
     "status": "completed"
    },
    "tags": []
   },
   "outputs": [
    {
     "data": {
      "text/html": [
       "<div>\n",
       "<style scoped>\n",
       "    .dataframe tbody tr th:only-of-type {\n",
       "        vertical-align: middle;\n",
       "    }\n",
       "\n",
       "    .dataframe tbody tr th {\n",
       "        vertical-align: top;\n",
       "    }\n",
       "\n",
       "    .dataframe thead th {\n",
       "        text-align: right;\n",
       "    }\n",
       "</style>\n",
       "<table border=\"1\" class=\"dataframe\">\n",
       "  <thead>\n",
       "    <tr style=\"text-align: right;\">\n",
       "      <th></th>\n",
       "      <th>area_type</th>\n",
       "      <th>location</th>\n",
       "      <th>size</th>\n",
       "      <th>total_sqft</th>\n",
       "      <th>bath</th>\n",
       "      <th>price</th>\n",
       "      <th>bhk</th>\n",
       "    </tr>\n",
       "  </thead>\n",
       "  <tbody>\n",
       "    <tr>\n",
       "      <th>1718</th>\n",
       "      <td>Super built-up  Area</td>\n",
       "      <td>2Electronic City Phase II</td>\n",
       "      <td>27 BHK</td>\n",
       "      <td>8000</td>\n",
       "      <td>27.0</td>\n",
       "      <td>230.0</td>\n",
       "      <td>27</td>\n",
       "    </tr>\n",
       "    <tr>\n",
       "      <th>4684</th>\n",
       "      <td>Plot  Area</td>\n",
       "      <td>Munnekollal</td>\n",
       "      <td>43 Bedroom</td>\n",
       "      <td>2400</td>\n",
       "      <td>40.0</td>\n",
       "      <td>660.0</td>\n",
       "      <td>43</td>\n",
       "    </tr>\n",
       "  </tbody>\n",
       "</table>\n",
       "</div>"
      ],
      "text/plain": [
       "                 area_type                   location        size total_sqft  \\\n",
       "1718  Super built-up  Area  2Electronic City Phase II      27 BHK       8000   \n",
       "4684            Plot  Area                Munnekollal  43 Bedroom       2400   \n",
       "\n",
       "      bath  price  bhk  \n",
       "1718  27.0  230.0   27  \n",
       "4684  40.0  660.0   43  "
      ]
     },
     "execution_count": 385,
     "metadata": {},
     "output_type": "execute_result"
    }
   ],
   "source": [
    "df3[df3['bhk']>20]"
   ]
  },
  {
   "attachments": {},
   "cell_type": "markdown",
   "id": "f0eb095b",
   "metadata": {
    "papermill": {
     "duration": 0.025908,
     "end_time": "2022-10-29T14:26:06.056239",
     "exception": false,
     "start_time": "2022-10-29T14:26:06.030331",
     "status": "completed"
    },
    "tags": []
   },
   "source": [
    "Here see that the bedroom having 43 rooms have only 2400 sqft of area, which is quite unusual.We will solve this problem."
   ]
  },
  {
   "attachments": {},
   "cell_type": "markdown",
   "id": "c83e7276",
   "metadata": {
    "papermill": {
     "duration": 0.021065,
     "end_time": "2022-10-29T14:26:06.100602",
     "exception": false,
     "start_time": "2022-10-29T14:26:06.079537",
     "status": "completed"
    },
    "tags": []
   },
   "source": [
    "**total_sqft**"
   ]
  },
  {
   "cell_type": "code",
   "execution_count": 386,
   "id": "70285998",
   "metadata": {
    "execution": {
     "iopub.execute_input": "2022-10-29T14:26:06.144769Z",
     "iopub.status.busy": "2022-10-29T14:26:06.144298Z",
     "iopub.status.idle": "2022-10-29T14:26:06.152940Z",
     "shell.execute_reply": "2022-10-29T14:26:06.151892Z"
    },
    "papermill": {
     "duration": 0.033767,
     "end_time": "2022-10-29T14:26:06.155464",
     "exception": false,
     "start_time": "2022-10-29T14:26:06.121697",
     "status": "completed"
    },
    "tags": []
   },
   "outputs": [
    {
     "data": {
      "text/plain": [
       "array(['1056', '2600', '1440', ..., '1133 - 1384', '774', '4689'],\n",
       "      dtype=object)"
      ]
     },
     "execution_count": 386,
     "metadata": {},
     "output_type": "execute_result"
    }
   ],
   "source": [
    "#Viewing unique values in total_sqft column\n",
    "df3['total_sqft'].unique()"
   ]
  },
  {
   "attachments": {},
   "cell_type": "markdown",
   "id": "5f8c26ea",
   "metadata": {
    "papermill": {
     "duration": 0.02363,
     "end_time": "2022-10-29T14:26:06.202277",
     "exception": false,
     "start_time": "2022-10-29T14:26:06.178647",
     "status": "completed"
    },
    "tags": []
   },
   "source": [
    "Here we can see that some values in total_sqft are like  1133 - 1384 which is not good  we will solve this problem."
   ]
  },
  {
   "cell_type": "code",
   "execution_count": 387,
   "id": "b9bc2d28",
   "metadata": {
    "execution": {
     "iopub.execute_input": "2022-10-29T14:26:06.248299Z",
     "iopub.status.busy": "2022-10-29T14:26:06.247785Z",
     "iopub.status.idle": "2022-10-29T14:26:06.253414Z",
     "shell.execute_reply": "2022-10-29T14:26:06.252239Z"
    },
    "papermill": {
     "duration": 0.033667,
     "end_time": "2022-10-29T14:26:06.257934",
     "exception": false,
     "start_time": "2022-10-29T14:26:06.224267",
     "status": "completed"
    },
    "tags": []
   },
   "outputs": [],
   "source": [
    "# Defining is_float function\n",
    "def is_float(x):\n",
    "    try:\n",
    "        float(x)\n",
    "    except:\n",
    "        return False\n",
    "    return True"
   ]
  },
  {
   "cell_type": "code",
   "execution_count": 388,
   "id": "d884fd71",
   "metadata": {
    "execution": {
     "iopub.execute_input": "2022-10-29T14:26:06.306342Z",
     "iopub.status.busy": "2022-10-29T14:26:06.305928Z",
     "iopub.status.idle": "2022-10-29T14:26:06.324494Z",
     "shell.execute_reply": "2022-10-29T14:26:06.323636Z"
    },
    "papermill": {
     "duration": 0.042447,
     "end_time": "2022-10-29T14:26:06.326182",
     "exception": false,
     "start_time": "2022-10-29T14:26:06.283735",
     "status": "completed"
    },
    "tags": []
   },
   "outputs": [
    {
     "data": {
      "text/html": [
       "<div>\n",
       "<style scoped>\n",
       "    .dataframe tbody tr th:only-of-type {\n",
       "        vertical-align: middle;\n",
       "    }\n",
       "\n",
       "    .dataframe tbody tr th {\n",
       "        vertical-align: top;\n",
       "    }\n",
       "\n",
       "    .dataframe thead th {\n",
       "        text-align: right;\n",
       "    }\n",
       "</style>\n",
       "<table border=\"1\" class=\"dataframe\">\n",
       "  <thead>\n",
       "    <tr style=\"text-align: right;\">\n",
       "      <th></th>\n",
       "      <th>area_type</th>\n",
       "      <th>location</th>\n",
       "      <th>size</th>\n",
       "      <th>total_sqft</th>\n",
       "      <th>bath</th>\n",
       "      <th>price</th>\n",
       "      <th>bhk</th>\n",
       "    </tr>\n",
       "  </thead>\n",
       "  <tbody>\n",
       "    <tr>\n",
       "      <th>30</th>\n",
       "      <td>Super built-up  Area</td>\n",
       "      <td>Yelahanka</td>\n",
       "      <td>4 BHK</td>\n",
       "      <td>2100 - 2850</td>\n",
       "      <td>4.0</td>\n",
       "      <td>186.000</td>\n",
       "      <td>4</td>\n",
       "    </tr>\n",
       "    <tr>\n",
       "      <th>122</th>\n",
       "      <td>Super built-up  Area</td>\n",
       "      <td>Hebbal</td>\n",
       "      <td>4 BHK</td>\n",
       "      <td>3067 - 8156</td>\n",
       "      <td>4.0</td>\n",
       "      <td>477.000</td>\n",
       "      <td>4</td>\n",
       "    </tr>\n",
       "    <tr>\n",
       "      <th>137</th>\n",
       "      <td>Super built-up  Area</td>\n",
       "      <td>8th Phase JP Nagar</td>\n",
       "      <td>2 BHK</td>\n",
       "      <td>1042 - 1105</td>\n",
       "      <td>2.0</td>\n",
       "      <td>54.005</td>\n",
       "      <td>2</td>\n",
       "    </tr>\n",
       "    <tr>\n",
       "      <th>165</th>\n",
       "      <td>Super built-up  Area</td>\n",
       "      <td>Sarjapur</td>\n",
       "      <td>2 BHK</td>\n",
       "      <td>1145 - 1340</td>\n",
       "      <td>2.0</td>\n",
       "      <td>43.490</td>\n",
       "      <td>2</td>\n",
       "    </tr>\n",
       "    <tr>\n",
       "      <th>188</th>\n",
       "      <td>Super built-up  Area</td>\n",
       "      <td>KR Puram</td>\n",
       "      <td>2 BHK</td>\n",
       "      <td>1015 - 1540</td>\n",
       "      <td>2.0</td>\n",
       "      <td>56.800</td>\n",
       "      <td>2</td>\n",
       "    </tr>\n",
       "    <tr>\n",
       "      <th>410</th>\n",
       "      <td>Super built-up  Area</td>\n",
       "      <td>Kengeri</td>\n",
       "      <td>1 BHK</td>\n",
       "      <td>34.46Sq. Meter</td>\n",
       "      <td>1.0</td>\n",
       "      <td>18.500</td>\n",
       "      <td>1</td>\n",
       "    </tr>\n",
       "    <tr>\n",
       "      <th>549</th>\n",
       "      <td>Super built-up  Area</td>\n",
       "      <td>Hennur Road</td>\n",
       "      <td>2 BHK</td>\n",
       "      <td>1195 - 1440</td>\n",
       "      <td>2.0</td>\n",
       "      <td>63.770</td>\n",
       "      <td>2</td>\n",
       "    </tr>\n",
       "    <tr>\n",
       "      <th>648</th>\n",
       "      <td>Built-up  Area</td>\n",
       "      <td>Arekere</td>\n",
       "      <td>9 Bedroom</td>\n",
       "      <td>4125Perch</td>\n",
       "      <td>9.0</td>\n",
       "      <td>265.000</td>\n",
       "      <td>9</td>\n",
       "    </tr>\n",
       "    <tr>\n",
       "      <th>661</th>\n",
       "      <td>Super built-up  Area</td>\n",
       "      <td>Yelahanka</td>\n",
       "      <td>2 BHK</td>\n",
       "      <td>1120 - 1145</td>\n",
       "      <td>2.0</td>\n",
       "      <td>48.130</td>\n",
       "      <td>2</td>\n",
       "    </tr>\n",
       "    <tr>\n",
       "      <th>672</th>\n",
       "      <td>Built-up  Area</td>\n",
       "      <td>Bettahalsoor</td>\n",
       "      <td>4 Bedroom</td>\n",
       "      <td>3090 - 5002</td>\n",
       "      <td>4.0</td>\n",
       "      <td>445.000</td>\n",
       "      <td>4</td>\n",
       "    </tr>\n",
       "  </tbody>\n",
       "</table>\n",
       "</div>"
      ],
      "text/plain": [
       "                area_type            location       size      total_sqft  \\\n",
       "30   Super built-up  Area           Yelahanka      4 BHK     2100 - 2850   \n",
       "122  Super built-up  Area              Hebbal      4 BHK     3067 - 8156   \n",
       "137  Super built-up  Area  8th Phase JP Nagar      2 BHK     1042 - 1105   \n",
       "165  Super built-up  Area            Sarjapur      2 BHK     1145 - 1340   \n",
       "188  Super built-up  Area            KR Puram      2 BHK     1015 - 1540   \n",
       "410  Super built-up  Area             Kengeri      1 BHK  34.46Sq. Meter   \n",
       "549  Super built-up  Area         Hennur Road      2 BHK     1195 - 1440   \n",
       "648        Built-up  Area             Arekere  9 Bedroom       4125Perch   \n",
       "661  Super built-up  Area           Yelahanka      2 BHK     1120 - 1145   \n",
       "672        Built-up  Area        Bettahalsoor  4 Bedroom     3090 - 5002   \n",
       "\n",
       "     bath    price  bhk  \n",
       "30    4.0  186.000    4  \n",
       "122   4.0  477.000    4  \n",
       "137   2.0   54.005    2  \n",
       "165   2.0   43.490    2  \n",
       "188   2.0   56.800    2  \n",
       "410   1.0   18.500    1  \n",
       "549   2.0   63.770    2  \n",
       "648   9.0  265.000    9  \n",
       "661   2.0   48.130    2  \n",
       "672   4.0  445.000    4  "
      ]
     },
     "execution_count": 388,
     "metadata": {},
     "output_type": "execute_result"
    }
   ],
   "source": [
    "df3[~df3['total_sqft'].apply(is_float)].head(10)"
   ]
  },
  {
   "attachments": {},
   "cell_type": "markdown",
   "id": "ea886167",
   "metadata": {
    "papermill": {
     "duration": 0.021052,
     "end_time": "2022-10-29T14:26:06.368393",
     "exception": false,
     "start_time": "2022-10-29T14:26:06.347341",
     "status": "completed"
    },
    "tags": []
   },
   "source": [
    "Here we can see those total_sqft values that have a range 3067 - 8156 or units with them 34.46Sq. Meter. We don't need these values we just want simply numbers.\n",
    "The values that have range we will take their average and the values that have units with them, we will drop those values.\n"
   ]
  },
  {
   "cell_type": "code",
   "execution_count": 389,
   "id": "6a1b7729",
   "metadata": {
    "execution": {
     "iopub.execute_input": "2022-10-29T14:26:06.417228Z",
     "iopub.status.busy": "2022-10-29T14:26:06.416816Z",
     "iopub.status.idle": "2022-10-29T14:26:06.422830Z",
     "shell.execute_reply": "2022-10-29T14:26:06.421726Z"
    },
    "papermill": {
     "duration": 0.03231,
     "end_time": "2022-10-29T14:26:06.424818",
     "exception": false,
     "start_time": "2022-10-29T14:26:06.392508",
     "status": "completed"
    },
    "tags": []
   },
   "outputs": [],
   "source": [
    "#Defining a function to convert the range values\n",
    "def convert_sqft_to_num(x):\n",
    "    tokens = x.split('-')\n",
    "    if len(tokens) == 2:\n",
    "        return (float(tokens[0]) + float(tokens[1]))/2\n",
    "    try:\n",
    "        return float(x)\n",
    "    except:\n",
    "        return None\n",
    "    \n",
    "    "
   ]
  },
  {
   "cell_type": "code",
   "execution_count": 390,
   "id": "04b418f5",
   "metadata": {
    "execution": {
     "iopub.execute_input": "2022-10-29T14:26:06.471781Z",
     "iopub.status.busy": "2022-10-29T14:26:06.470712Z",
     "iopub.status.idle": "2022-10-29T14:26:06.479160Z",
     "shell.execute_reply": "2022-10-29T14:26:06.477639Z"
    },
    "papermill": {
     "duration": 0.033152,
     "end_time": "2022-10-29T14:26:06.481546",
     "exception": false,
     "start_time": "2022-10-29T14:26:06.448394",
     "status": "completed"
    },
    "scrolled": true,
    "tags": []
   },
   "outputs": [
    {
     "data": {
      "text/plain": [
       "1277.5"
      ]
     },
     "execution_count": 390,
     "metadata": {},
     "output_type": "execute_result"
    }
   ],
   "source": [
    "#Checking convert_sqft_to_num function\n",
    "convert_sqft_to_num('1015 - 1540')"
   ]
  },
  {
   "cell_type": "code",
   "execution_count": 391,
   "id": "c42f6c48",
   "metadata": {
    "execution": {
     "iopub.execute_input": "2022-10-29T14:26:06.525951Z",
     "iopub.status.busy": "2022-10-29T14:26:06.525561Z",
     "iopub.status.idle": "2022-10-29T14:26:06.545675Z",
     "shell.execute_reply": "2022-10-29T14:26:06.544223Z"
    },
    "papermill": {
     "duration": 0.045719,
     "end_time": "2022-10-29T14:26:06.548377",
     "exception": false,
     "start_time": "2022-10-29T14:26:06.502658",
     "status": "completed"
    },
    "tags": []
   },
   "outputs": [],
   "source": [
    "#Applying convert_sqft_to_num\n",
    "df4 = df3.copy()\n",
    "df4['total_sqft'] = df4['total_sqft'].apply(convert_sqft_to_num)\n",
    "df4 = df4[df4.total_sqft.notnull()]\n"
   ]
  },
  {
   "cell_type": "code",
   "execution_count": 392,
   "id": "3103ab30",
   "metadata": {
    "execution": {
     "iopub.execute_input": "2022-10-29T14:26:06.592930Z",
     "iopub.status.busy": "2022-10-29T14:26:06.592593Z",
     "iopub.status.idle": "2022-10-29T14:26:06.600716Z",
     "shell.execute_reply": "2022-10-29T14:26:06.599131Z"
    },
    "papermill": {
     "duration": 0.033562,
     "end_time": "2022-10-29T14:26:06.603417",
     "exception": false,
     "start_time": "2022-10-29T14:26:06.569855",
     "status": "completed"
    },
    "scrolled": true,
    "tags": []
   },
   "outputs": [
    {
     "data": {
      "text/plain": [
       "area_type     Super built-up  Area\n",
       "location                 Yelahanka\n",
       "size                         4 BHK\n",
       "total_sqft                  2475.0\n",
       "bath                           4.0\n",
       "price                        186.0\n",
       "bhk                              4\n",
       "Name: 30, dtype: object"
      ]
     },
     "execution_count": 392,
     "metadata": {},
     "output_type": "execute_result"
    }
   ],
   "source": [
    "#Checking whether it worked\n",
    "df4.loc[30]"
   ]
  },
  {
   "attachments": {},
   "cell_type": "markdown",
   "id": "91504f62",
   "metadata": {
    "papermill": {
     "duration": 0.021328,
     "end_time": "2022-10-29T14:26:06.646297",
     "exception": false,
     "start_time": "2022-10-29T14:26:06.624969",
     "status": "completed"
    },
    "tags": []
   },
   "source": [
    "Before, row 30 had \t2100 - 2850 total_sqft but now it has 2475.0 which is the average of 2100 and 2850."
   ]
  },
  {
   "attachments": {},
   "cell_type": "markdown",
   "id": "e3814096",
   "metadata": {
    "papermill": {
     "duration": 0.020828,
     "end_time": "2022-10-29T14:26:06.688887",
     "exception": false,
     "start_time": "2022-10-29T14:26:06.668059",
     "status": "completed"
    },
    "tags": []
   },
   "source": [
    "**Price Per Square Feet**"
   ]
  },
  {
   "cell_type": "code",
   "execution_count": 393,
   "id": "37c0d611",
   "metadata": {
    "execution": {
     "iopub.execute_input": "2022-10-29T14:26:06.732982Z",
     "iopub.status.busy": "2022-10-29T14:26:06.732641Z",
     "iopub.status.idle": "2022-10-29T14:26:06.750832Z",
     "shell.execute_reply": "2022-10-29T14:26:06.749481Z"
    },
    "papermill": {
     "duration": 0.043557,
     "end_time": "2022-10-29T14:26:06.753443",
     "exception": false,
     "start_time": "2022-10-29T14:26:06.709886",
     "status": "completed"
    },
    "scrolled": true,
    "tags": []
   },
   "outputs": [
    {
     "data": {
      "text/html": [
       "<div>\n",
       "<style scoped>\n",
       "    .dataframe tbody tr th:only-of-type {\n",
       "        vertical-align: middle;\n",
       "    }\n",
       "\n",
       "    .dataframe tbody tr th {\n",
       "        vertical-align: top;\n",
       "    }\n",
       "\n",
       "    .dataframe thead th {\n",
       "        text-align: right;\n",
       "    }\n",
       "</style>\n",
       "<table border=\"1\" class=\"dataframe\">\n",
       "  <thead>\n",
       "    <tr style=\"text-align: right;\">\n",
       "      <th></th>\n",
       "      <th>area_type</th>\n",
       "      <th>location</th>\n",
       "      <th>size</th>\n",
       "      <th>total_sqft</th>\n",
       "      <th>bath</th>\n",
       "      <th>price</th>\n",
       "      <th>bhk</th>\n",
       "      <th>price_per_sqft</th>\n",
       "    </tr>\n",
       "  </thead>\n",
       "  <tbody>\n",
       "    <tr>\n",
       "      <th>0</th>\n",
       "      <td>Super built-up  Area</td>\n",
       "      <td>Electronic City Phase II</td>\n",
       "      <td>2 BHK</td>\n",
       "      <td>1056.0</td>\n",
       "      <td>2.0</td>\n",
       "      <td>39.07</td>\n",
       "      <td>2</td>\n",
       "      <td>3699.810606</td>\n",
       "    </tr>\n",
       "    <tr>\n",
       "      <th>1</th>\n",
       "      <td>Plot  Area</td>\n",
       "      <td>Chikka Tirupathi</td>\n",
       "      <td>4 Bedroom</td>\n",
       "      <td>2600.0</td>\n",
       "      <td>5.0</td>\n",
       "      <td>120.00</td>\n",
       "      <td>4</td>\n",
       "      <td>4615.384615</td>\n",
       "    </tr>\n",
       "    <tr>\n",
       "      <th>2</th>\n",
       "      <td>Built-up  Area</td>\n",
       "      <td>Uttarahalli</td>\n",
       "      <td>3 BHK</td>\n",
       "      <td>1440.0</td>\n",
       "      <td>2.0</td>\n",
       "      <td>62.00</td>\n",
       "      <td>3</td>\n",
       "      <td>4305.555556</td>\n",
       "    </tr>\n",
       "    <tr>\n",
       "      <th>3</th>\n",
       "      <td>Super built-up  Area</td>\n",
       "      <td>Lingadheeranahalli</td>\n",
       "      <td>3 BHK</td>\n",
       "      <td>1521.0</td>\n",
       "      <td>3.0</td>\n",
       "      <td>95.00</td>\n",
       "      <td>3</td>\n",
       "      <td>6245.890861</td>\n",
       "    </tr>\n",
       "    <tr>\n",
       "      <th>4</th>\n",
       "      <td>Super built-up  Area</td>\n",
       "      <td>Kothanur</td>\n",
       "      <td>2 BHK</td>\n",
       "      <td>1200.0</td>\n",
       "      <td>2.0</td>\n",
       "      <td>51.00</td>\n",
       "      <td>2</td>\n",
       "      <td>4250.000000</td>\n",
       "    </tr>\n",
       "  </tbody>\n",
       "</table>\n",
       "</div>"
      ],
      "text/plain": [
       "              area_type                  location       size  total_sqft  \\\n",
       "0  Super built-up  Area  Electronic City Phase II      2 BHK      1056.0   \n",
       "1            Plot  Area          Chikka Tirupathi  4 Bedroom      2600.0   \n",
       "2        Built-up  Area               Uttarahalli      3 BHK      1440.0   \n",
       "3  Super built-up  Area        Lingadheeranahalli      3 BHK      1521.0   \n",
       "4  Super built-up  Area                  Kothanur      2 BHK      1200.0   \n",
       "\n",
       "   bath   price  bhk  price_per_sqft  \n",
       "0   2.0   39.07    2     3699.810606  \n",
       "1   5.0  120.00    4     4615.384615  \n",
       "2   2.0   62.00    3     4305.555556  \n",
       "3   3.0   95.00    3     6245.890861  \n",
       "4   2.0   51.00    2     4250.000000  "
      ]
     },
     "execution_count": 393,
     "metadata": {},
     "output_type": "execute_result"
    }
   ],
   "source": [
    "#Creating Price Per square Feet Column\n",
    "df5 = df4.copy()\n",
    "df5['price_per_sqft'] = df5['price']*100000 / df5['total_sqft']\n",
    "df5.head()"
   ]
  },
  {
   "cell_type": "code",
   "execution_count": 394,
   "id": "a74dd90d",
   "metadata": {
    "scrolled": true
   },
   "outputs": [
    {
     "data": {
      "text/plain": [
       "Super built-up  Area    8729\n",
       "Built-up  Area          2394\n",
       "Plot  Area              1991\n",
       "Name: area_type, dtype: int64"
      ]
     },
     "execution_count": 394,
     "metadata": {},
     "output_type": "execute_result"
    }
   ],
   "source": [
    "df5['area_type'].value_counts()"
   ]
  },
  {
   "cell_type": "code",
   "execution_count": 395,
   "id": "747fa385",
   "metadata": {},
   "outputs": [],
   "source": [
    "#ordinal encoding area_type\n",
    "#df5=df5.replace({'area_type':{'Super built-up Area':2,'Plot Area':1,'Built-up Area':3,'Carpet  Area':4}})\n",
    "from sklearn.preprocessing import OrdinalEncoder\n",
    "encoder = OrdinalEncoder()\n",
    "df5['area_type'] = encoder.fit_transform(df5[['area_type']])"
   ]
  },
  {
   "cell_type": "code",
   "execution_count": 396,
   "id": "15d55fd8",
   "metadata": {},
   "outputs": [
    {
     "data": {
      "text/html": [
       "<div>\n",
       "<style scoped>\n",
       "    .dataframe tbody tr th:only-of-type {\n",
       "        vertical-align: middle;\n",
       "    }\n",
       "\n",
       "    .dataframe tbody tr th {\n",
       "        vertical-align: top;\n",
       "    }\n",
       "\n",
       "    .dataframe thead th {\n",
       "        text-align: right;\n",
       "    }\n",
       "</style>\n",
       "<table border=\"1\" class=\"dataframe\">\n",
       "  <thead>\n",
       "    <tr style=\"text-align: right;\">\n",
       "      <th></th>\n",
       "      <th>area_type</th>\n",
       "      <th>location</th>\n",
       "      <th>size</th>\n",
       "      <th>total_sqft</th>\n",
       "      <th>bath</th>\n",
       "      <th>price</th>\n",
       "      <th>bhk</th>\n",
       "      <th>price_per_sqft</th>\n",
       "    </tr>\n",
       "  </thead>\n",
       "  <tbody>\n",
       "    <tr>\n",
       "      <th>0</th>\n",
       "      <td>2.0</td>\n",
       "      <td>Electronic City Phase II</td>\n",
       "      <td>2 BHK</td>\n",
       "      <td>1056.0</td>\n",
       "      <td>2.0</td>\n",
       "      <td>39.07</td>\n",
       "      <td>2</td>\n",
       "      <td>3699.810606</td>\n",
       "    </tr>\n",
       "    <tr>\n",
       "      <th>1</th>\n",
       "      <td>1.0</td>\n",
       "      <td>Chikka Tirupathi</td>\n",
       "      <td>4 Bedroom</td>\n",
       "      <td>2600.0</td>\n",
       "      <td>5.0</td>\n",
       "      <td>120.00</td>\n",
       "      <td>4</td>\n",
       "      <td>4615.384615</td>\n",
       "    </tr>\n",
       "    <tr>\n",
       "      <th>2</th>\n",
       "      <td>0.0</td>\n",
       "      <td>Uttarahalli</td>\n",
       "      <td>3 BHK</td>\n",
       "      <td>1440.0</td>\n",
       "      <td>2.0</td>\n",
       "      <td>62.00</td>\n",
       "      <td>3</td>\n",
       "      <td>4305.555556</td>\n",
       "    </tr>\n",
       "    <tr>\n",
       "      <th>3</th>\n",
       "      <td>2.0</td>\n",
       "      <td>Lingadheeranahalli</td>\n",
       "      <td>3 BHK</td>\n",
       "      <td>1521.0</td>\n",
       "      <td>3.0</td>\n",
       "      <td>95.00</td>\n",
       "      <td>3</td>\n",
       "      <td>6245.890861</td>\n",
       "    </tr>\n",
       "    <tr>\n",
       "      <th>4</th>\n",
       "      <td>2.0</td>\n",
       "      <td>Kothanur</td>\n",
       "      <td>2 BHK</td>\n",
       "      <td>1200.0</td>\n",
       "      <td>2.0</td>\n",
       "      <td>51.00</td>\n",
       "      <td>2</td>\n",
       "      <td>4250.000000</td>\n",
       "    </tr>\n",
       "  </tbody>\n",
       "</table>\n",
       "</div>"
      ],
      "text/plain": [
       "   area_type                  location       size  total_sqft  bath   price  \\\n",
       "0        2.0  Electronic City Phase II      2 BHK      1056.0   2.0   39.07   \n",
       "1        1.0          Chikka Tirupathi  4 Bedroom      2600.0   5.0  120.00   \n",
       "2        0.0               Uttarahalli      3 BHK      1440.0   2.0   62.00   \n",
       "3        2.0        Lingadheeranahalli      3 BHK      1521.0   3.0   95.00   \n",
       "4        2.0                  Kothanur      2 BHK      1200.0   2.0   51.00   \n",
       "\n",
       "   bhk  price_per_sqft  \n",
       "0    2     3699.810606  \n",
       "1    4     4615.384615  \n",
       "2    3     4305.555556  \n",
       "3    3     6245.890861  \n",
       "4    2     4250.000000  "
      ]
     },
     "execution_count": 396,
     "metadata": {},
     "output_type": "execute_result"
    }
   ],
   "source": [
    "df5.head()"
   ]
  },
  {
   "attachments": {},
   "cell_type": "markdown",
   "id": "4f9658fc",
   "metadata": {
    "papermill": {
     "duration": 0.021216,
     "end_time": "2022-10-29T14:26:06.796221",
     "exception": false,
     "start_time": "2022-10-29T14:26:06.775005",
     "status": "completed"
    },
    "tags": []
   },
   "source": [
    "**Location**"
   ]
  },
  {
   "cell_type": "code",
   "execution_count": 397,
   "id": "cb24fd51",
   "metadata": {
    "execution": {
     "iopub.execute_input": "2022-10-29T14:26:06.840768Z",
     "iopub.status.busy": "2022-10-29T14:26:06.840436Z",
     "iopub.status.idle": "2022-10-29T14:26:06.854989Z",
     "shell.execute_reply": "2022-10-29T14:26:06.853559Z"
    },
    "papermill": {
     "duration": 0.039292,
     "end_time": "2022-10-29T14:26:06.856999",
     "exception": false,
     "start_time": "2022-10-29T14:26:06.817707",
     "status": "completed"
    },
    "scrolled": false,
    "tags": []
   },
   "outputs": [
    {
     "data": {
      "text/plain": [
       "Whitefield                   533\n",
       "Sarjapur  Road               392\n",
       "Electronic City              304\n",
       "Kanakpura Road               258\n",
       "Thanisandra                  235\n",
       "                            ... \n",
       "Nagarbhavi  BDA Complex        1\n",
       "Rajanna Layout                 1\n",
       "Indiranagar HAL 2nd Stage      1\n",
       "Lakshmipura Vidyaanyapura      1\n",
       "Abshot Layout                  1\n",
       "Name: location, Length: 1283, dtype: int64"
      ]
     },
     "execution_count": 397,
     "metadata": {},
     "output_type": "execute_result"
    }
   ],
   "source": [
    "#Viewing the number of location datapoints \n",
    "df5['location'] = df5['location'].apply(lambda x : x.strip())\n",
    "location_stats = df5['location'].value_counts(ascending = False)\n",
    "location_stats"
   ]
  },
  {
   "attachments": {},
   "cell_type": "markdown",
   "id": "304bb85d",
   "metadata": {
    "papermill": {
     "duration": 0.02193,
     "end_time": "2022-10-29T14:26:06.900689",
     "exception": false,
     "start_time": "2022-10-29T14:26:06.878759",
     "status": "completed"
    },
    "tags": []
   },
   "source": [
    "We can see that there are locations having 533 data points or even 1 data points. \n",
    "\n",
    "Now we will mark the locations that have less than or equal to 150 data points as other."
   ]
  },
  {
   "cell_type": "code",
   "execution_count": 398,
   "id": "cfed5125",
   "metadata": {
    "execution": {
     "iopub.execute_input": "2022-10-29T14:26:06.946494Z",
     "iopub.status.busy": "2022-10-29T14:26:06.945628Z",
     "iopub.status.idle": "2022-10-29T14:26:06.955505Z",
     "shell.execute_reply": "2022-10-29T14:26:06.954314Z"
    },
    "papermill": {
     "duration": 0.03492,
     "end_time": "2022-10-29T14:26:06.957439",
     "exception": false,
     "start_time": "2022-10-29T14:26:06.922519",
     "status": "completed"
    },
    "scrolled": false,
    "tags": []
   },
   "outputs": [
    {
     "data": {
      "text/plain": [
       "Hennur Road                  150\n",
       "Bannerghatta Road            149\n",
       "7th Phase JP Nagar           148\n",
       "Haralur Road                 141\n",
       "Electronic City Phase II     130\n",
       "                            ... \n",
       "Nagarbhavi  BDA Complex        1\n",
       "Rajanna Layout                 1\n",
       "Indiranagar HAL 2nd Stage      1\n",
       "Lakshmipura Vidyaanyapura      1\n",
       "Abshot Layout                  1\n",
       "Name: location, Length: 1273, dtype: int64"
      ]
     },
     "execution_count": 398,
     "metadata": {},
     "output_type": "execute_result"
    }
   ],
   "source": [
    "#Locations having less than or equal to 150 data points\n",
    "location_stats_less_than_150 = location_stats[location_stats<= 150]\n",
    "location_stats_less_than_150"
   ]
  },
  {
   "cell_type": "code",
   "execution_count": 399,
   "id": "1ad8f782",
   "metadata": {
    "execution": {
     "iopub.execute_input": "2022-10-29T14:26:07.002557Z",
     "iopub.status.busy": "2022-10-29T14:26:07.002023Z",
     "iopub.status.idle": "2022-10-29T14:26:07.010356Z",
     "shell.execute_reply": "2022-10-29T14:26:07.009256Z"
    },
    "papermill": {
     "duration": 0.033366,
     "end_time": "2022-10-29T14:26:07.012337",
     "exception": false,
     "start_time": "2022-10-29T14:26:06.978971",
     "status": "completed"
    },
    "scrolled": true,
    "tags": []
   },
   "outputs": [
    {
     "data": {
      "text/plain": [
       "1283"
      ]
     },
     "execution_count": 399,
     "metadata": {},
     "output_type": "execute_result"
    }
   ],
   "source": [
    "#location unique data points\n",
    "len(df5['location'].unique())"
   ]
  },
  {
   "attachments": {},
   "cell_type": "markdown",
   "id": "cee5907d",
   "metadata": {
    "papermill": {
     "duration": 0.021297,
     "end_time": "2022-10-29T14:26:07.055173",
     "exception": false,
     "start_time": "2022-10-29T14:26:07.033876",
     "status": "completed"
    },
    "tags": []
   },
   "source": [
    "There are 12 total location data points."
   ]
  },
  {
   "cell_type": "code",
   "execution_count": 400,
   "id": "a37779d9",
   "metadata": {
    "execution": {
     "iopub.execute_input": "2022-10-29T14:26:07.100005Z",
     "iopub.status.busy": "2022-10-29T14:26:07.099639Z",
     "iopub.status.idle": "2022-10-29T14:26:07.121014Z",
     "shell.execute_reply": "2022-10-29T14:26:07.119870Z"
    },
    "papermill": {
     "duration": 0.046218,
     "end_time": "2022-10-29T14:26:07.122935",
     "exception": false,
     "start_time": "2022-10-29T14:26:07.076717",
     "status": "completed"
    },
    "tags": []
   },
   "outputs": [
    {
     "data": {
      "text/plain": [
       "11"
      ]
     },
     "execution_count": 400,
     "metadata": {},
     "output_type": "execute_result"
    }
   ],
   "source": [
    "#removing location data points less than or equal to 150\n",
    "df5['location'] = df5['location'].apply(lambda x : 'other' if x in location_stats_less_than_150 else x)\n",
    "len(df5['location'].unique())"
   ]
  },
  {
   "attachments": {},
   "cell_type": "markdown",
   "id": "f9ee47fa",
   "metadata": {
    "papermill": {
     "duration": 0.021248,
     "end_time": "2022-10-29T14:26:07.165899",
     "exception": false,
     "start_time": "2022-10-29T14:26:07.144651",
     "status": "completed"
    },
    "tags": []
   },
   "source": [
    "Now  we have only 12 location data points left."
   ]
  },
  {
   "attachments": {},
   "cell_type": "markdown",
   "id": "9eaa3403",
   "metadata": {
    "papermill": {
     "duration": 0.021704,
     "end_time": "2022-10-29T14:26:07.209015",
     "exception": false,
     "start_time": "2022-10-29T14:26:07.187311",
     "status": "completed"
    },
    "tags": []
   },
   "source": [
    "### Outlier Removal"
   ]
  },
  {
   "attachments": {},
   "cell_type": "markdown",
   "id": "f1d7adb5",
   "metadata": {
    "papermill": {
     "duration": 0.021891,
     "end_time": "2022-10-29T14:26:07.253017",
     "exception": false,
     "start_time": "2022-10-29T14:26:07.231126",
     "status": "completed"
    },
    "tags": []
   },
   "source": [
    "**tatal_sqft / bhk**"
   ]
  },
  {
   "attachments": {},
   "cell_type": "markdown",
   "id": "90d4e929",
   "metadata": {
    "papermill": {
     "duration": 0.021836,
     "end_time": "2022-10-29T14:26:07.297285",
     "exception": false,
     "start_time": "2022-10-29T14:26:07.275449",
     "status": "completed"
    },
    "tags": []
   },
   "source": [
    "we will assume that 1 bhk = 300 sqft. If some values do not satisfy this condition we will remove those rows from our dataset."
   ]
  },
  {
   "cell_type": "code",
   "execution_count": 401,
   "id": "ccc95a3a",
   "metadata": {
    "execution": {
     "iopub.execute_input": "2022-10-29T14:26:07.342550Z",
     "iopub.status.busy": "2022-10-29T14:26:07.341619Z",
     "iopub.status.idle": "2022-10-29T14:26:07.356166Z",
     "shell.execute_reply": "2022-10-29T14:26:07.355277Z"
    },
    "papermill": {
     "duration": 0.039084,
     "end_time": "2022-10-29T14:26:07.357977",
     "exception": false,
     "start_time": "2022-10-29T14:26:07.318893",
     "status": "completed"
    },
    "tags": []
   },
   "outputs": [
    {
     "data": {
      "text/html": [
       "<div>\n",
       "<style scoped>\n",
       "    .dataframe tbody tr th:only-of-type {\n",
       "        vertical-align: middle;\n",
       "    }\n",
       "\n",
       "    .dataframe tbody tr th {\n",
       "        vertical-align: top;\n",
       "    }\n",
       "\n",
       "    .dataframe thead th {\n",
       "        text-align: right;\n",
       "    }\n",
       "</style>\n",
       "<table border=\"1\" class=\"dataframe\">\n",
       "  <thead>\n",
       "    <tr style=\"text-align: right;\">\n",
       "      <th></th>\n",
       "      <th>area_type</th>\n",
       "      <th>location</th>\n",
       "      <th>size</th>\n",
       "      <th>total_sqft</th>\n",
       "      <th>bath</th>\n",
       "      <th>price</th>\n",
       "      <th>bhk</th>\n",
       "      <th>price_per_sqft</th>\n",
       "    </tr>\n",
       "  </thead>\n",
       "  <tbody>\n",
       "    <tr>\n",
       "      <th>9</th>\n",
       "      <td>1.0</td>\n",
       "      <td>other</td>\n",
       "      <td>6 Bedroom</td>\n",
       "      <td>1020.0</td>\n",
       "      <td>6.0</td>\n",
       "      <td>370.0</td>\n",
       "      <td>6</td>\n",
       "      <td>36274.509804</td>\n",
       "    </tr>\n",
       "    <tr>\n",
       "      <th>45</th>\n",
       "      <td>1.0</td>\n",
       "      <td>other</td>\n",
       "      <td>8 Bedroom</td>\n",
       "      <td>600.0</td>\n",
       "      <td>9.0</td>\n",
       "      <td>200.0</td>\n",
       "      <td>8</td>\n",
       "      <td>33333.333333</td>\n",
       "    </tr>\n",
       "    <tr>\n",
       "      <th>58</th>\n",
       "      <td>1.0</td>\n",
       "      <td>other</td>\n",
       "      <td>6 Bedroom</td>\n",
       "      <td>1407.0</td>\n",
       "      <td>4.0</td>\n",
       "      <td>150.0</td>\n",
       "      <td>6</td>\n",
       "      <td>10660.980810</td>\n",
       "    </tr>\n",
       "    <tr>\n",
       "      <th>68</th>\n",
       "      <td>1.0</td>\n",
       "      <td>other</td>\n",
       "      <td>8 Bedroom</td>\n",
       "      <td>1350.0</td>\n",
       "      <td>7.0</td>\n",
       "      <td>85.0</td>\n",
       "      <td>8</td>\n",
       "      <td>6296.296296</td>\n",
       "    </tr>\n",
       "    <tr>\n",
       "      <th>70</th>\n",
       "      <td>1.0</td>\n",
       "      <td>other</td>\n",
       "      <td>3 Bedroom</td>\n",
       "      <td>500.0</td>\n",
       "      <td>3.0</td>\n",
       "      <td>100.0</td>\n",
       "      <td>3</td>\n",
       "      <td>20000.000000</td>\n",
       "    </tr>\n",
       "    <tr>\n",
       "      <th>...</th>\n",
       "      <td>...</td>\n",
       "      <td>...</td>\n",
       "      <td>...</td>\n",
       "      <td>...</td>\n",
       "      <td>...</td>\n",
       "      <td>...</td>\n",
       "      <td>...</td>\n",
       "      <td>...</td>\n",
       "    </tr>\n",
       "    <tr>\n",
       "      <th>13221</th>\n",
       "      <td>1.0</td>\n",
       "      <td>other</td>\n",
       "      <td>9 Bedroom</td>\n",
       "      <td>1178.0</td>\n",
       "      <td>9.0</td>\n",
       "      <td>75.0</td>\n",
       "      <td>9</td>\n",
       "      <td>6366.723260</td>\n",
       "    </tr>\n",
       "    <tr>\n",
       "      <th>13277</th>\n",
       "      <td>1.0</td>\n",
       "      <td>other</td>\n",
       "      <td>7 Bedroom</td>\n",
       "      <td>1400.0</td>\n",
       "      <td>7.0</td>\n",
       "      <td>218.0</td>\n",
       "      <td>7</td>\n",
       "      <td>15571.428571</td>\n",
       "    </tr>\n",
       "    <tr>\n",
       "      <th>13279</th>\n",
       "      <td>1.0</td>\n",
       "      <td>other</td>\n",
       "      <td>6 Bedroom</td>\n",
       "      <td>1200.0</td>\n",
       "      <td>5.0</td>\n",
       "      <td>130.0</td>\n",
       "      <td>6</td>\n",
       "      <td>10833.333333</td>\n",
       "    </tr>\n",
       "    <tr>\n",
       "      <th>13303</th>\n",
       "      <td>1.0</td>\n",
       "      <td>other</td>\n",
       "      <td>5 Bedroom</td>\n",
       "      <td>774.0</td>\n",
       "      <td>5.0</td>\n",
       "      <td>70.0</td>\n",
       "      <td>5</td>\n",
       "      <td>9043.927649</td>\n",
       "    </tr>\n",
       "    <tr>\n",
       "      <th>13311</th>\n",
       "      <td>1.0</td>\n",
       "      <td>other</td>\n",
       "      <td>7 Bedroom</td>\n",
       "      <td>1500.0</td>\n",
       "      <td>9.0</td>\n",
       "      <td>250.0</td>\n",
       "      <td>7</td>\n",
       "      <td>16666.666667</td>\n",
       "    </tr>\n",
       "  </tbody>\n",
       "</table>\n",
       "<p>610 rows × 8 columns</p>\n",
       "</div>"
      ],
      "text/plain": [
       "       area_type location       size  total_sqft  bath  price  bhk  \\\n",
       "9            1.0    other  6 Bedroom      1020.0   6.0  370.0    6   \n",
       "45           1.0    other  8 Bedroom       600.0   9.0  200.0    8   \n",
       "58           1.0    other  6 Bedroom      1407.0   4.0  150.0    6   \n",
       "68           1.0    other  8 Bedroom      1350.0   7.0   85.0    8   \n",
       "70           1.0    other  3 Bedroom       500.0   3.0  100.0    3   \n",
       "...          ...      ...        ...         ...   ...    ...  ...   \n",
       "13221        1.0    other  9 Bedroom      1178.0   9.0   75.0    9   \n",
       "13277        1.0    other  7 Bedroom      1400.0   7.0  218.0    7   \n",
       "13279        1.0    other  6 Bedroom      1200.0   5.0  130.0    6   \n",
       "13303        1.0    other  5 Bedroom       774.0   5.0   70.0    5   \n",
       "13311        1.0    other  7 Bedroom      1500.0   9.0  250.0    7   \n",
       "\n",
       "       price_per_sqft  \n",
       "9        36274.509804  \n",
       "45       33333.333333  \n",
       "58       10660.980810  \n",
       "68        6296.296296  \n",
       "70       20000.000000  \n",
       "...               ...  \n",
       "13221     6366.723260  \n",
       "13277    15571.428571  \n",
       "13279    10833.333333  \n",
       "13303     9043.927649  \n",
       "13311    16666.666667  \n",
       "\n",
       "[610 rows x 8 columns]"
      ]
     },
     "execution_count": 401,
     "metadata": {},
     "output_type": "execute_result"
    }
   ],
   "source": [
    "#Viewing tatal_sqft / bhk <300\n",
    "df5[df5['total_sqft'] / df5['bhk'] < 250]"
   ]
  },
  {
   "cell_type": "code",
   "execution_count": 402,
   "id": "21ab3a2e",
   "metadata": {
    "execution": {
     "iopub.execute_input": "2022-10-29T14:26:07.404575Z",
     "iopub.status.busy": "2022-10-29T14:26:07.402860Z",
     "iopub.status.idle": "2022-10-29T14:26:07.410812Z",
     "shell.execute_reply": "2022-10-29T14:26:07.409243Z"
    },
    "papermill": {
     "duration": 0.03417,
     "end_time": "2022-10-29T14:26:07.413719",
     "exception": false,
     "start_time": "2022-10-29T14:26:07.379549",
     "status": "completed"
    },
    "tags": []
   },
   "outputs": [
    {
     "data": {
      "text/html": [
       "<div>\n",
       "<style scoped>\n",
       "    .dataframe tbody tr th:only-of-type {\n",
       "        vertical-align: middle;\n",
       "    }\n",
       "\n",
       "    .dataframe tbody tr th {\n",
       "        vertical-align: top;\n",
       "    }\n",
       "\n",
       "    .dataframe thead th {\n",
       "        text-align: right;\n",
       "    }\n",
       "</style>\n",
       "<table border=\"1\" class=\"dataframe\">\n",
       "  <thead>\n",
       "    <tr style=\"text-align: right;\">\n",
       "      <th></th>\n",
       "      <th>area_type</th>\n",
       "      <th>location</th>\n",
       "      <th>size</th>\n",
       "      <th>total_sqft</th>\n",
       "      <th>bath</th>\n",
       "      <th>price</th>\n",
       "      <th>bhk</th>\n",
       "      <th>price_per_sqft</th>\n",
       "    </tr>\n",
       "  </thead>\n",
       "  <tbody>\n",
       "    <tr>\n",
       "      <th>1894</th>\n",
       "      <td>1.0</td>\n",
       "      <td>other</td>\n",
       "      <td>3 Bedroom</td>\n",
       "      <td>52272.0</td>\n",
       "      <td>2.0</td>\n",
       "      <td>140.0</td>\n",
       "      <td>3</td>\n",
       "      <td>267.829813</td>\n",
       "    </tr>\n",
       "    <tr>\n",
       "      <th>674</th>\n",
       "      <td>0.0</td>\n",
       "      <td>Yelahanka</td>\n",
       "      <td>3 BHK</td>\n",
       "      <td>35000.0</td>\n",
       "      <td>3.0</td>\n",
       "      <td>130.0</td>\n",
       "      <td>3</td>\n",
       "      <td>371.428571</td>\n",
       "    </tr>\n",
       "    <tr>\n",
       "      <th>5393</th>\n",
       "      <td>2.0</td>\n",
       "      <td>other</td>\n",
       "      <td>9 BHK</td>\n",
       "      <td>42000.0</td>\n",
       "      <td>8.0</td>\n",
       "      <td>175.0</td>\n",
       "      <td>9</td>\n",
       "      <td>416.666667</td>\n",
       "    </tr>\n",
       "    <tr>\n",
       "      <th>11748</th>\n",
       "      <td>0.0</td>\n",
       "      <td>other</td>\n",
       "      <td>3 BHK</td>\n",
       "      <td>2400.0</td>\n",
       "      <td>3.0</td>\n",
       "      <td>12.0</td>\n",
       "      <td>3</td>\n",
       "      <td>500.000000</td>\n",
       "    </tr>\n",
       "    <tr>\n",
       "      <th>7242</th>\n",
       "      <td>1.0</td>\n",
       "      <td>Yelahanka</td>\n",
       "      <td>1 Bedroom</td>\n",
       "      <td>26136.0</td>\n",
       "      <td>1.0</td>\n",
       "      <td>150.0</td>\n",
       "      <td>1</td>\n",
       "      <td>573.921028</td>\n",
       "    </tr>\n",
       "  </tbody>\n",
       "</table>\n",
       "</div>"
      ],
      "text/plain": [
       "       area_type   location       size  total_sqft  bath  price  bhk  \\\n",
       "1894         1.0      other  3 Bedroom     52272.0   2.0  140.0    3   \n",
       "674          0.0  Yelahanka      3 BHK     35000.0   3.0  130.0    3   \n",
       "5393         2.0      other      9 BHK     42000.0   8.0  175.0    9   \n",
       "11748        0.0      other      3 BHK      2400.0   3.0   12.0    3   \n",
       "7242         1.0  Yelahanka  1 Bedroom     26136.0   1.0  150.0    1   \n",
       "\n",
       "       price_per_sqft  \n",
       "1894       267.829813  \n",
       "674        371.428571  \n",
       "5393       416.666667  \n",
       "11748      500.000000  \n",
       "7242       573.921028  "
      ]
     },
     "execution_count": 402,
     "metadata": {},
     "output_type": "execute_result"
    }
   ],
   "source": [
    "sorted_df = df5.sort_values('price_per_sqft')\n",
    "sorted_df.head(5)"
   ]
  },
  {
   "cell_type": "code",
   "execution_count": 403,
   "id": "d9f6a68a",
   "metadata": {},
   "outputs": [
    {
     "data": {
      "text/plain": [
       "(13114, 8)"
      ]
     },
     "execution_count": 403,
     "metadata": {},
     "output_type": "execute_result"
    }
   ],
   "source": [
    "df5.shape"
   ]
  },
  {
   "attachments": {},
   "cell_type": "markdown",
   "id": "09e37ada",
   "metadata": {
    "papermill": {
     "duration": 0.022365,
     "end_time": "2022-10-29T14:26:07.459167",
     "exception": false,
     "start_time": "2022-10-29T14:26:07.436802",
     "status": "completed"
    },
    "tags": []
   },
   "source": [
    "we originally had 13200 rows in our dataset."
   ]
  },
  {
   "cell_type": "code",
   "execution_count": 404,
   "id": "4028e829",
   "metadata": {
    "execution": {
     "iopub.execute_input": "2022-10-29T14:26:07.506397Z",
     "iopub.status.busy": "2022-10-29T14:26:07.506007Z",
     "iopub.status.idle": "2022-10-29T14:26:07.516257Z",
     "shell.execute_reply": "2022-10-29T14:26:07.515159Z"
    },
    "papermill": {
     "duration": 0.036131,
     "end_time": "2022-10-29T14:26:07.518243",
     "exception": false,
     "start_time": "2022-10-29T14:26:07.482112",
     "status": "completed"
    },
    "tags": []
   },
   "outputs": [
    {
     "data": {
      "text/plain": [
       "(12504, 8)"
      ]
     },
     "execution_count": 404,
     "metadata": {},
     "output_type": "execute_result"
    }
   ],
   "source": [
    "#removing outliers \n",
    "df6 = df5[~(df5['total_sqft'] / df5['bhk'] < 250)]\n",
    "df6.shape"
   ]
  },
  {
   "attachments": {},
   "cell_type": "markdown",
   "id": "6beee2a7",
   "metadata": {
    "papermill": {
     "duration": 0.022835,
     "end_time": "2022-10-29T14:26:07.564173",
     "exception": false,
     "start_time": "2022-10-29T14:26:07.541338",
     "status": "completed"
    },
    "tags": []
   },
   "source": [
    "After removing the outlier we are left with 12456 rows only."
   ]
  },
  {
   "attachments": {},
   "cell_type": "markdown",
   "id": "fbbbbd33",
   "metadata": {
    "papermill": {
     "duration": 0.022812,
     "end_time": "2022-10-29T14:26:07.609535",
     "exception": false,
     "start_time": "2022-10-29T14:26:07.586723",
     "status": "completed"
    },
    "tags": []
   },
   "source": [
    "**price_per_sqft**"
   ]
  },
  {
   "cell_type": "code",
   "execution_count": 405,
   "id": "14de6c9e",
   "metadata": {
    "execution": {
     "iopub.execute_input": "2022-10-29T14:26:07.657385Z",
     "iopub.status.busy": "2022-10-29T14:26:07.656311Z",
     "iopub.status.idle": "2022-10-29T14:26:07.669208Z",
     "shell.execute_reply": "2022-10-29T14:26:07.668475Z"
    },
    "papermill": {
     "duration": 0.038563,
     "end_time": "2022-10-29T14:26:07.670839",
     "exception": false,
     "start_time": "2022-10-29T14:26:07.632276",
     "status": "completed"
    },
    "tags": []
   },
   "outputs": [
    {
     "data": {
      "text/plain": [
       "count     12504.000000\n",
       "mean       6349.116918\n",
       "std        4205.711132\n",
       "min         267.829813\n",
       "25%        4210.526316\n",
       "50%        5300.191410\n",
       "75%        6961.044565\n",
       "max      176470.588235\n",
       "Name: price_per_sqft, dtype: float64"
      ]
     },
     "execution_count": 405,
     "metadata": {},
     "output_type": "execute_result"
    }
   ],
   "source": [
    "#Describing price_per_sqft\n",
    "df6['price_per_sqft'].describe()"
   ]
  },
  {
   "attachments": {},
   "cell_type": "markdown",
   "id": "9be3c252",
   "metadata": {
    "papermill": {
     "duration": 0.022055,
     "end_time": "2022-10-29T14:26:07.715826",
     "exception": false,
     "start_time": "2022-10-29T14:26:07.693771",
     "status": "completed"
    },
    "tags": []
   },
   "source": [
    "If we look at the min and max values. The minimum price is 267 only for a sqft which is very unusual for a metro city like Bengalure. The maximum price of 176470 per sqft is also very unusual. We will remove these type of extreme values, by using mean and standard deviation."
   ]
  },
  {
   "cell_type": "code",
   "execution_count": 406,
   "id": "fb6e7bfb",
   "metadata": {
    "execution": {
     "iopub.execute_input": "2022-10-29T14:26:07.762986Z",
     "iopub.status.busy": "2022-10-29T14:26:07.762367Z",
     "iopub.status.idle": "2022-10-29T14:26:07.768771Z",
     "shell.execute_reply": "2022-10-29T14:26:07.767499Z"
    },
    "papermill": {
     "duration": 0.032882,
     "end_time": "2022-10-29T14:26:07.771212",
     "exception": false,
     "start_time": "2022-10-29T14:26:07.738330",
     "status": "completed"
    },
    "tags": []
   },
   "outputs": [],
   "source": [
    "#Function for removing extreme values\n",
    "def remove_pps_outliers(df):\n",
    "    df_out = pd.DataFrame()\n",
    "    for key , subdf in df.groupby('location'):\n",
    "        m = np.mean(subdf.price_per_sqft)\n",
    "        sd = np.std(subdf.price_per_sqft)\n",
    "        reduced_df = subdf[(subdf.price_per_sqft > (m-sd)) & (subdf.price_per_sqft < (m+sd))]\n",
    "        df_out = pd.concat([df_out , reduced_df] , ignore_index = True)\n",
    "    return df_out"
   ]
  },
  {
   "cell_type": "code",
   "execution_count": 407,
   "id": "26507c54",
   "metadata": {
    "execution": {
     "iopub.execute_input": "2022-10-29T14:26:07.818097Z",
     "iopub.status.busy": "2022-10-29T14:26:07.817621Z",
     "iopub.status.idle": "2022-10-29T14:26:08.246908Z",
     "shell.execute_reply": "2022-10-29T14:26:08.245510Z"
    },
    "papermill": {
     "duration": 0.455228,
     "end_time": "2022-10-29T14:26:08.249202",
     "exception": false,
     "start_time": "2022-10-29T14:26:07.793974",
     "status": "completed"
    },
    "tags": []
   },
   "outputs": [
    {
     "data": {
      "text/plain": [
       "(11101, 8)"
      ]
     },
     "execution_count": 407,
     "metadata": {},
     "output_type": "execute_result"
    }
   ],
   "source": [
    "#Calling remove_pps_outliers \n",
    "df7 = remove_pps_outliers(df6)\n",
    "df7.shape"
   ]
  },
  {
   "cell_type": "code",
   "execution_count": 411,
   "id": "2d74ea52",
   "metadata": {},
   "outputs": [
    {
     "data": {
      "text/plain": [
       "(array([ 431., 1531., 2499., 2479., 1642., 1097.,  657.,  345.,  234.,\n",
       "         186.]),\n",
       " array([ 2064.22018349,  2961.91895784,  3859.61773219,  4757.31650655,\n",
       "         5655.0152809 ,  6552.71405525,  7450.41282961,  8348.11160396,\n",
       "         9245.81037831, 10143.50915267, 11041.20792702]),\n",
       " <BarContainer object of 10 artists>)"
      ]
     },
     "execution_count": 411,
     "metadata": {},
     "output_type": "execute_result"
    },
    {
     "data": {
      "image/png": "[encoded data removed]",
      "text/plain": [
       "<Figure size 1440x720 with 1 Axes>"
      ]
     },
     "metadata": {
      "needs_background": "light"
     },
     "output_type": "display_data"
    }
   ],
   "source": [
    "#bins=np.linspace(df7['price_per_sqft'].min(),df7['price_per_sqft'].max(),10)\n",
    "plt.hist(df7['price_per_sqft'])"
   ]
  },
  {
   "cell_type": "code",
   "execution_count": 321,
   "id": "2f884954",
   "metadata": {},
   "outputs": [
    {
     "data": {
      "text/plain": [
       "Text(0, 0.5, 'Count')"
      ]
     },
     "execution_count": 321,
     "metadata": {},
     "output_type": "execute_result"
    },
    {
     "data": {
      "image/png": "[encoded data removed]",
      "text/plain": [
       "<Figure size 1440x720 with 1 Axes>"
      ]
     },
     "metadata": {
      "needs_background": "light"
     },
     "output_type": "display_data"
    }
   ],
   "source": [
    "plt.hist(df7.price, rwidth = 0.8)\n",
    "plt.xlabel('price')\n",
    "plt.ylabel('Count')"
   ]
  },
  {
   "cell_type": "code",
   "execution_count": 322,
   "id": "6c2ff8ad",
   "metadata": {},
   "outputs": [],
   "source": [
    "df7=df7[df7['price']<=750]"
   ]
  },
  {
   "cell_type": "code",
   "execution_count": 323,
   "id": "760e5614",
   "metadata": {},
   "outputs": [
    {
     "data": {
      "text/plain": [
       "Text(0, 0.5, 'Count')"
      ]
     },
     "execution_count": 323,
     "metadata": {},
     "output_type": "execute_result"
    },
    {
     "data": {
      "image/png": "[encoded data removed]",
      "text/plain": [
       "<Figure size 1440x720 with 1 Axes>"
      ]
     },
     "metadata": {
      "needs_background": "light"
     },
     "output_type": "display_data"
    }
   ],
   "source": [
    "plt.hist(df7.price)\n",
    "plt.xlabel('price')\n",
    "plt.ylabel('Count')"
   ]
  },
  {
   "cell_type": "code",
   "execution_count": 324,
   "id": "40a9e9c2",
   "metadata": {},
   "outputs": [
    {
     "data": {
      "image/png": "[encoded data removed]",
      "text/plain": [
       "<Figure size 1440x720 with 1 Axes>"
      ]
     },
     "metadata": {
      "needs_background": "light"
     },
     "output_type": "display_data"
    }
   ],
   "source": [
    "# Apply log transform to price column\n",
    "df7['price_log'] = np.log(df7['price'])\n",
    "\n",
    "# Plot histogram of log-transformed price\n",
    "plt.hist(df7['price_log'])\n",
    "plt.xlabel('log(price)')\n",
    "plt.ylabel('Count')\n",
    "plt.show()"
   ]
  },
  {
   "cell_type": "code",
   "execution_count": 325,
   "id": "7d8cf6da",
   "metadata": {},
   "outputs": [
    {
     "data": {
      "text/html": [
       "<div>\n",
       "<style scoped>\n",
       "    .dataframe tbody tr th:only-of-type {\n",
       "        vertical-align: middle;\n",
       "    }\n",
       "\n",
       "    .dataframe tbody tr th {\n",
       "        vertical-align: top;\n",
       "    }\n",
       "\n",
       "    .dataframe thead th {\n",
       "        text-align: right;\n",
       "    }\n",
       "</style>\n",
       "<table border=\"1\" class=\"dataframe\">\n",
       "  <thead>\n",
       "    <tr style=\"text-align: right;\">\n",
       "      <th></th>\n",
       "      <th>area_type</th>\n",
       "      <th>location</th>\n",
       "      <th>size</th>\n",
       "      <th>total_sqft</th>\n",
       "      <th>bath</th>\n",
       "      <th>price</th>\n",
       "      <th>bhk</th>\n",
       "      <th>price_per_sqft</th>\n",
       "    </tr>\n",
       "  </thead>\n",
       "  <tbody>\n",
       "    <tr>\n",
       "      <th>0</th>\n",
       "      <td>2.0</td>\n",
       "      <td>Electronic City</td>\n",
       "      <td>2 BHK</td>\n",
       "      <td>660.0</td>\n",
       "      <td>1.0</td>\n",
       "      <td>23.10</td>\n",
       "      <td>2</td>\n",
       "      <td>3500.000000</td>\n",
       "    </tr>\n",
       "    <tr>\n",
       "      <th>1</th>\n",
       "      <td>2.0</td>\n",
       "      <td>Electronic City</td>\n",
       "      <td>3 BHK</td>\n",
       "      <td>1025.0</td>\n",
       "      <td>2.0</td>\n",
       "      <td>47.00</td>\n",
       "      <td>3</td>\n",
       "      <td>4585.365854</td>\n",
       "    </tr>\n",
       "    <tr>\n",
       "      <th>2</th>\n",
       "      <td>2.0</td>\n",
       "      <td>Electronic City</td>\n",
       "      <td>2 BHK</td>\n",
       "      <td>1000.0</td>\n",
       "      <td>2.0</td>\n",
       "      <td>28.88</td>\n",
       "      <td>2</td>\n",
       "      <td>2888.000000</td>\n",
       "    </tr>\n",
       "    <tr>\n",
       "      <th>3</th>\n",
       "      <td>2.0</td>\n",
       "      <td>Electronic City</td>\n",
       "      <td>3 BHK</td>\n",
       "      <td>1530.0</td>\n",
       "      <td>2.0</td>\n",
       "      <td>45.90</td>\n",
       "      <td>3</td>\n",
       "      <td>3000.000000</td>\n",
       "    </tr>\n",
       "    <tr>\n",
       "      <th>4</th>\n",
       "      <td>2.0</td>\n",
       "      <td>Electronic City</td>\n",
       "      <td>3 BHK</td>\n",
       "      <td>1500.0</td>\n",
       "      <td>2.0</td>\n",
       "      <td>64.50</td>\n",
       "      <td>3</td>\n",
       "      <td>4300.000000</td>\n",
       "    </tr>\n",
       "  </tbody>\n",
       "</table>\n",
       "</div>"
      ],
      "text/plain": [
       "   area_type         location   size  total_sqft  bath  price  bhk  \\\n",
       "0        2.0  Electronic City  2 BHK       660.0   1.0  23.10    2   \n",
       "1        2.0  Electronic City  3 BHK      1025.0   2.0  47.00    3   \n",
       "2        2.0  Electronic City  2 BHK      1000.0   2.0  28.88    2   \n",
       "3        2.0  Electronic City  3 BHK      1530.0   2.0  45.90    3   \n",
       "4        2.0  Electronic City  3 BHK      1500.0   2.0  64.50    3   \n",
       "\n",
       "   price_per_sqft  \n",
       "0     3500.000000  \n",
       "1     4585.365854  \n",
       "2     2888.000000  \n",
       "3     3000.000000  \n",
       "4     4300.000000  "
      ]
     },
     "execution_count": 325,
     "metadata": {},
     "output_type": "execute_result"
    }
   ],
   "source": [
    "df7.drop('price_log',axis=\"columns\",inplace=True)\n",
    "df7.head()"
   ]
  },
  {
   "cell_type": "code",
   "execution_count": 326,
   "id": "a3ecfe2c",
   "metadata": {},
   "outputs": [
    {
     "data": {
      "text/html": [
       "<div>\n",
       "<style scoped>\n",
       "    .dataframe tbody tr th:only-of-type {\n",
       "        vertical-align: middle;\n",
       "    }\n",
       "\n",
       "    .dataframe tbody tr th {\n",
       "        vertical-align: top;\n",
       "    }\n",
       "\n",
       "    .dataframe thead th {\n",
       "        text-align: right;\n",
       "    }\n",
       "</style>\n",
       "<table border=\"1\" class=\"dataframe\">\n",
       "  <thead>\n",
       "    <tr style=\"text-align: right;\">\n",
       "      <th></th>\n",
       "      <th>area_type</th>\n",
       "      <th>location</th>\n",
       "      <th>size</th>\n",
       "      <th>total_sqft</th>\n",
       "      <th>bath</th>\n",
       "      <th>price</th>\n",
       "      <th>bhk</th>\n",
       "      <th>price_per_sqft</th>\n",
       "    </tr>\n",
       "  </thead>\n",
       "  <tbody>\n",
       "  </tbody>\n",
       "</table>\n",
       "</div>"
      ],
      "text/plain": [
       "Empty DataFrame\n",
       "Columns: [area_type, location, size, total_sqft, bath, price, bhk, price_per_sqft]\n",
       "Index: []"
      ]
     },
     "execution_count": 326,
     "metadata": {},
     "output_type": "execute_result"
    }
   ],
   "source": [
    "import re\n",
    "\n",
    "ff=df7[df7['location'].str.contains(r'bannerghatta road',regex=True,flags=re.IGNORECASE)]\n",
    "ff"
   ]
  },
  {
   "attachments": {},
   "cell_type": "markdown",
   "id": "901c39d1",
   "metadata": {
    "papermill": {
     "duration": 0.022522,
     "end_time": "2022-10-29T14:26:08.338541",
     "exception": false,
     "start_time": "2022-10-29T14:26:08.316019",
     "status": "completed"
    },
    "tags": []
   },
   "source": [
    "**BHK's outliers**"
   ]
  },
  {
   "attachments": {},
   "cell_type": "markdown",
   "id": "98b116c0",
   "metadata": {
    "papermill": {
     "duration": 0.022058,
     "end_time": "2022-10-29T14:26:08.382935",
     "exception": false,
     "start_time": "2022-10-29T14:26:08.360877",
     "status": "completed"
    },
    "tags": []
   },
   "source": [
    "If we look carefully in our dataset, we can see that the values of some 2 and 3 bhk houses are very unusual. Like a 2 bhk and a 3 bhk houses are in the same location but their price differs a lot. We will solve this problem."
   ]
  },
  {
   "cell_type": "code",
   "execution_count": 327,
   "id": "b3fa6ed2",
   "metadata": {
    "execution": {
     "iopub.execute_input": "2022-10-29T14:26:08.429223Z",
     "iopub.status.busy": "2022-10-29T14:26:08.428861Z",
     "iopub.status.idle": "2022-10-29T14:26:08.436868Z",
     "shell.execute_reply": "2022-10-29T14:26:08.435152Z"
    },
    "papermill": {
     "duration": 0.033432,
     "end_time": "2022-10-29T14:26:08.438829",
     "exception": false,
     "start_time": "2022-10-29T14:26:08.405397",
     "status": "completed"
    },
    "tags": []
   },
   "outputs": [],
   "source": [
    "# Creating a Scatter plot function \n",
    "def plot_scatter_chart(df, location):\n",
    "    bhk2 = df[(df.location == location ) & (df.bhk == 2)]\n",
    "    bhk3 = df[(df.location == location ) & (df.bhk == 3)]\n",
    "    bhk1 = df[(df.location == location ) & (df.bhk == 1)]\n",
    "\n",
    "    matplotlib.rcParams['figure.figsize'] = (15,10)\n",
    "    plt.scatter(bhk2.total_sqft , bhk2.price , color = 'blue' , label = '2 BHK' , s = 50)\n",
    "    plt.scatter(bhk3.total_sqft , bhk3.price , marker = '+' ,  color = 'green' , label = '3 BHK' , s = 50)\n",
    "    plt.scatter(bhk1.total_sqft , bhk1.price , marker = '*' ,  color = 'red' , label = '1 BHK' , s = 50)\n",
    "    plt.xlabel('Total Square feet Area')\n",
    "    plt.ylabel('Price (Lakhs Indian Rupees)')\n",
    "    plt.title('Location')\n",
    "    plt.legend()\n",
    "    \n",
    "    "
   ]
  },
  {
   "cell_type": "code",
   "execution_count": 328,
   "id": "95f094e3",
   "metadata": {
    "execution": {
     "iopub.execute_input": "2022-10-29T14:26:08.487641Z",
     "iopub.status.busy": "2022-10-29T14:26:08.487249Z",
     "iopub.status.idle": "2022-10-29T14:26:08.780896Z",
     "shell.execute_reply": "2022-10-29T14:26:08.779167Z"
    },
    "papermill": {
     "duration": 0.321654,
     "end_time": "2022-10-29T14:26:08.783871",
     "exception": false,
     "start_time": "2022-10-29T14:26:08.462217",
     "status": "completed"
    },
    "tags": []
   },
   "outputs": [
    {
     "data": {
      "image/png": "[encoded data removed]",
      "text/plain": [
       "<Figure size 1080x720 with 1 Axes>"
      ]
     },
     "metadata": {
      "needs_background": "light"
     },
     "output_type": "display_data"
    }
   ],
   "source": [
    "#Calling plot_scatter_chart\n",
    "plot_scatter_chart(df7 , 'Whitefield')"
   ]
  },
  {
   "attachments": {},
   "cell_type": "markdown",
   "id": "d4322cb8",
   "metadata": {
    "papermill": {
     "duration": 0.023416,
     "end_time": "2022-10-29T14:26:08.831038",
     "exception": false,
     "start_time": "2022-10-29T14:26:08.807622",
     "status": "completed"
    },
    "tags": []
   },
   "source": [
    "In the scatterplot above the blue points are the 2 bhk houses and the green points are the 3 bhk houses. we can see for example around 1500 Total Square feet Area that some 2bhk houses have more price than the 3 bhk houses. we will remove this abnormality."
   ]
  },
  {
   "attachments": {},
   "cell_type": "markdown",
   "id": "efbc7224",
   "metadata": {
    "papermill": {
     "duration": 0.022714,
     "end_time": "2022-10-29T14:26:08.877974",
     "exception": false,
     "start_time": "2022-10-29T14:26:08.855260",
     "status": "completed"
    },
    "tags": []
   },
   "source": [
    "**We should also remove properties where for same location, the price of (for example) 3 bedroom apartment is less than 2 bedroom apartment (with same square ft area). What we will do is for a given location, we will build a dictionary of stats per bhk, i.e.**\n",
    "\n",
    "\n",
    "\n",
    "\n",
    "{\n",
    "\n",
    "    '1' : {\n",
    "        'mean': 4000,\n",
    "        'std: 2000,\n",
    "        'count': 34\n",
    "    },\n",
    "    \n",
    "    \n",
    "    \n",
    "    '2' : {\n",
    "        'mean': 4300,\n",
    "        'std: 2300,\n",
    "        'count': 22\n",
    "    },    \n",
    "}\n",
    "\n",
    "\n",
    "\n",
    "**Now we can remove those 2 BHK apartments whose price_per_sqft is less than mean price_per_sqft of 1 BHK apartment**"
   ]
  },
  {
   "cell_type": "code",
   "execution_count": 329,
   "id": "b2283389",
   "metadata": {
    "execution": {
     "iopub.execute_input": "2022-10-29T14:26:08.926696Z",
     "iopub.status.busy": "2022-10-29T14:26:08.926320Z",
     "iopub.status.idle": "2022-10-29T14:26:08.934324Z",
     "shell.execute_reply": "2022-10-29T14:26:08.932948Z"
    },
    "papermill": {
     "duration": 0.036047,
     "end_time": "2022-10-29T14:26:08.937245",
     "exception": false,
     "start_time": "2022-10-29T14:26:08.901198",
     "status": "completed"
    },
    "tags": []
   },
   "outputs": [],
   "source": [
    "# Creating remove_bhk_outliers\n",
    "def remove_bhk_outliers(df):\n",
    "    exclude_indices = np.array([])\n",
    "    for location , location_df in df.groupby('location'):\n",
    "        bhk_stats = {}\n",
    "        for bhk , bhk_df in location_df.groupby('bhk'):\n",
    "            bhk_stats[bhk] = {\n",
    "                'mean' : np.mean(bhk_df.price_per_sqft),\n",
    "                'std' : np.std(bhk_df.price_per_sqft),\n",
    "                'count' : bhk_df.shape[0]\n",
    "            }\n",
    "        for bhk, bhk_df in location_df.groupby('bhk'):\n",
    "            stats = bhk_stats.get(bhk-1)\n",
    "            #stats1 = bhk_stats.get(bhk+1)\n",
    "            if (stats and stats['count']>5):# or (stats1 and stats1['count']>5)\n",
    "                exclude_indices = np.append(exclude_indices , bhk_df[bhk_df.price_per_sqft < (stats['mean'])].index.values)\n",
    "                #exclude_indices = np.append(exclude_indices , bhk_df[bhk_df.price_per_sqft > (stats1['mean'])].index.values)\n",
    "    return df.drop(exclude_indices , axis = 'index')\n",
    "    "
   ]
  },
  {
   "cell_type": "code",
   "execution_count": 330,
   "id": "3e4687c3",
   "metadata": {
    "execution": {
     "iopub.execute_input": "2022-10-29T14:26:08.984128Z",
     "iopub.status.busy": "2022-10-29T14:26:08.983541Z",
     "iopub.status.idle": "2022-10-29T14:26:09.579360Z",
     "shell.execute_reply": "2022-10-29T14:26:09.578429Z"
    },
    "papermill": {
     "duration": 0.621893,
     "end_time": "2022-10-29T14:26:09.581721",
     "exception": false,
     "start_time": "2022-10-29T14:26:08.959828",
     "status": "completed"
    },
    "tags": []
   },
   "outputs": [
    {
     "data": {
      "text/plain": [
       "(6099, 8)"
      ]
     },
     "execution_count": 330,
     "metadata": {},
     "output_type": "execute_result"
    }
   ],
   "source": [
    "#Calling remove_bhk_outliers\n",
    "df8 = remove_bhk_outliers(df7)\n",
    "df8.shape"
   ]
  },
  {
   "cell_type": "code",
   "execution_count": 331,
   "id": "0fd235c2",
   "metadata": {},
   "outputs": [
    {
     "data": {
      "text/plain": [
       "(0, 8)"
      ]
     },
     "execution_count": 331,
     "metadata": {},
     "output_type": "execute_result"
    }
   ],
   "source": [
    "ff1=remove_bhk_outliers(ff)\n",
    "ff1.shape"
   ]
  },
  {
   "cell_type": "code",
   "execution_count": 332,
   "id": "251e945a",
   "metadata": {},
   "outputs": [
    {
     "data": {
      "text/plain": [
       "array([ 3,  2,  1,  4,  8,  6,  9,  5, 11,  7, 27, 10, 16, 13],\n",
       "      dtype=int64)"
      ]
     },
     "execution_count": 332,
     "metadata": {},
     "output_type": "execute_result"
    }
   ],
   "source": [
    "df8['bhk'].unique()"
   ]
  },
  {
   "attachments": {},
   "cell_type": "markdown",
   "id": "d8c7e779",
   "metadata": {
    "papermill": {
     "duration": 0.022905,
     "end_time": "2022-10-29T14:26:09.627519",
     "exception": false,
     "start_time": "2022-10-29T14:26:09.604614",
     "status": "completed"
    },
    "tags": []
   },
   "source": [
    "Now let's check if our remove_bhk_outliers function really work."
   ]
  },
  {
   "cell_type": "code",
   "execution_count": 333,
   "id": "82b7d51b",
   "metadata": {
    "execution": {
     "iopub.execute_input": "2022-10-29T14:26:09.677457Z",
     "iopub.status.busy": "2022-10-29T14:26:09.676615Z",
     "iopub.status.idle": "2022-10-29T14:26:09.887739Z",
     "shell.execute_reply": "2022-10-29T14:26:09.886255Z"
    },
    "papermill": {
     "duration": 0.23896,
     "end_time": "2022-10-29T14:26:09.890955",
     "exception": false,
     "start_time": "2022-10-29T14:26:09.651995",
     "status": "completed"
    },
    "tags": []
   },
   "outputs": [
    {
     "data": {
      "image/png": "[encoded data removed]",
      "text/plain": [
       "<Figure size 1080x720 with 1 Axes>"
      ]
     },
     "metadata": {
      "needs_background": "light"
     },
     "output_type": "display_data"
    }
   ],
   "source": [
    "plot_scatter_chart(df8 , 'Whitefield')"
   ]
  },
  {
   "attachments": {},
   "cell_type": "markdown",
   "id": "ef882f41",
   "metadata": {
    "papermill": {
     "duration": 0.02463,
     "end_time": "2022-10-29T14:26:09.939467",
     "exception": false,
     "start_time": "2022-10-29T14:26:09.914837",
     "status": "completed"
    },
    "tags": []
   },
   "source": [
    "Now we can see that the price of the 2 bhk houses is less than the price of the 3 bhk houses."
   ]
  },
  {
   "cell_type": "code",
   "execution_count": 334,
   "id": "d01bcdfb",
   "metadata": {
    "execution": {
     "iopub.execute_input": "2022-10-29T14:26:09.990435Z",
     "iopub.status.busy": "2022-10-29T14:26:09.989907Z",
     "iopub.status.idle": "2022-10-29T14:26:10.162270Z",
     "shell.execute_reply": "2022-10-29T14:26:10.161165Z"
    },
    "papermill": {
     "duration": 0.200576,
     "end_time": "2022-10-29T14:26:10.164551",
     "exception": false,
     "start_time": "2022-10-29T14:26:09.963975",
     "status": "completed"
    },
    "tags": []
   },
   "outputs": [
    {
     "data": {
      "text/plain": [
       "Text(0, 0.5, 'Count')"
      ]
     },
     "execution_count": 334,
     "metadata": {},
     "output_type": "execute_result"
    },
    {
     "data": {
      "image/png": "[encoded data removed]",
      "text/plain": [
       "<Figure size 1080x720 with 1 Axes>"
      ]
     },
     "metadata": {
      "needs_background": "light"
     },
     "output_type": "display_data"
    }
   ],
   "source": [
    "#Plotting a histogram of price_per_sqft\n",
    "plt.hist(df8.price_per_sqft , rwidth = 0.8)\n",
    "plt.xlabel('Price Per Square Feet')\n",
    "plt.ylabel('Count')"
   ]
  },
  {
   "cell_type": "code",
   "execution_count": 335,
   "id": "b345aaee",
   "metadata": {},
   "outputs": [
    {
     "data": {
      "text/plain": [
       "Text(0, 0.5, 'Count')"
      ]
     },
     "execution_count": 335,
     "metadata": {},
     "output_type": "execute_result"
    },
    {
     "data": {
      "image/png": "[encoded data removed]",
      "text/plain": [
       "<Figure size 1080x720 with 1 Axes>"
      ]
     },
     "metadata": {
      "needs_background": "light"
     },
     "output_type": "display_data"
    }
   ],
   "source": [
    "#Plotting a histogram of price\n",
    "plt.hist(df8.price , rwidth = 0.8)\n",
    "plt.xlabel('Price')\n",
    "plt.ylabel('Count') "
   ]
  },
  {
   "attachments": {},
   "cell_type": "markdown",
   "id": "5e9d4304",
   "metadata": {
    "papermill": {
     "duration": 0.023653,
     "end_time": "2022-10-29T14:26:10.212524",
     "exception": false,
     "start_time": "2022-10-29T14:26:10.188871",
     "status": "completed"
    },
    "tags": []
   },
   "source": [
    "We can see from the histogram that our dataset has almost a normal distribution."
   ]
  },
  {
   "attachments": {},
   "cell_type": "markdown",
   "id": "cef887e3",
   "metadata": {
    "papermill": {
     "duration": 0.023062,
     "end_time": "2022-10-29T14:26:10.259004",
     "exception": false,
     "start_time": "2022-10-29T14:26:10.235942",
     "status": "completed"
    },
    "tags": []
   },
   "source": [
    "**Bathroom**"
   ]
  },
  {
   "cell_type": "code",
   "execution_count": 336,
   "id": "a3e99b1c",
   "metadata": {
    "execution": {
     "iopub.execute_input": "2022-10-29T14:26:10.308352Z",
     "iopub.status.busy": "2022-10-29T14:26:10.307686Z",
     "iopub.status.idle": "2022-10-29T14:26:10.477731Z",
     "shell.execute_reply": "2022-10-29T14:26:10.476327Z"
    },
    "papermill": {
     "duration": 0.197891,
     "end_time": "2022-10-29T14:26:10.480514",
     "exception": false,
     "start_time": "2022-10-29T14:26:10.282623",
     "status": "completed"
    },
    "tags": []
   },
   "outputs": [
    {
     "data": {
      "text/plain": [
       "Text(0, 0.5, 'Count')"
      ]
     },
     "execution_count": 336,
     "metadata": {},
     "output_type": "execute_result"
    },
    {
     "data": {
      "image/png": "[encoded data removed]",
      "text/plain": [
       "<Figure size 1080x720 with 1 Axes>"
      ]
     },
     "metadata": {
      "needs_background": "light"
     },
     "output_type": "display_data"
    }
   ],
   "source": [
    "#Plotting a histogram showing bathrooms\n",
    "plt.hist(df8['bath'] , rwidth = 0.8)\n",
    "plt.xlabel('Number Of Bathrooms')\n",
    "plt.ylabel('Count')"
   ]
  },
  {
   "attachments": {},
   "cell_type": "markdown",
   "id": "afd9a353",
   "metadata": {
    "papermill": {
     "duration": 0.023973,
     "end_time": "2022-10-29T14:26:10.528921",
     "exception": false,
     "start_time": "2022-10-29T14:26:10.504948",
     "status": "completed"
    },
    "tags": []
   },
   "source": [
    "We can see that most of the houses in our dataset has 2,4 or 5 bathrooms."
   ]
  },
  {
   "cell_type": "code",
   "execution_count": 337,
   "id": "4e35d87b",
   "metadata": {
    "execution": {
     "iopub.execute_input": "2022-10-29T14:26:10.580972Z",
     "iopub.status.busy": "2022-10-29T14:26:10.580610Z",
     "iopub.status.idle": "2022-10-29T14:26:10.586943Z",
     "shell.execute_reply": "2022-10-29T14:26:10.585974Z"
    },
    "papermill": {
     "duration": 0.034552,
     "end_time": "2022-10-29T14:26:10.588713",
     "exception": false,
     "start_time": "2022-10-29T14:26:10.554161",
     "status": "completed"
    },
    "tags": []
   },
   "outputs": [
    {
     "data": {
      "text/plain": [
       "array([ 2.,  1.,  3.,  4.,  5.,  6.,  8.,  9.,  7., 27., 12., 16., 13.])"
      ]
     },
     "execution_count": 337,
     "metadata": {},
     "output_type": "execute_result"
    }
   ],
   "source": [
    "#Viewing unique bathroom values\n",
    "df8['bath'].unique()"
   ]
  },
  {
   "attachments": {},
   "cell_type": "markdown",
   "id": "46cdc6f5",
   "metadata": {
    "papermill": {
     "duration": 0.024152,
     "end_time": "2022-10-29T14:26:10.637568",
     "exception": false,
     "start_time": "2022-10-29T14:26:10.613416",
     "status": "completed"
    },
    "tags": []
   },
   "source": [
    "we can see that some houses even has 13 or 16 bathrooms."
   ]
  },
  {
   "cell_type": "code",
   "execution_count": 338,
   "id": "25c00f09",
   "metadata": {
    "execution": {
     "iopub.execute_input": "2022-10-29T14:26:10.688923Z",
     "iopub.status.busy": "2022-10-29T14:26:10.688268Z",
     "iopub.status.idle": "2022-10-29T14:26:10.701662Z",
     "shell.execute_reply": "2022-10-29T14:26:10.700617Z"
    },
    "papermill": {
     "duration": 0.041985,
     "end_time": "2022-10-29T14:26:10.704155",
     "exception": false,
     "start_time": "2022-10-29T14:26:10.662170",
     "status": "completed"
    },
    "tags": []
   },
   "outputs": [
    {
     "data": {
      "text/html": [
       "<div>\n",
       "<style scoped>\n",
       "    .dataframe tbody tr th:only-of-type {\n",
       "        vertical-align: middle;\n",
       "    }\n",
       "\n",
       "    .dataframe tbody tr th {\n",
       "        vertical-align: top;\n",
       "    }\n",
       "\n",
       "    .dataframe thead th {\n",
       "        text-align: right;\n",
       "    }\n",
       "</style>\n",
       "<table border=\"1\" class=\"dataframe\">\n",
       "  <thead>\n",
       "    <tr style=\"text-align: right;\">\n",
       "      <th></th>\n",
       "      <th>area_type</th>\n",
       "      <th>location</th>\n",
       "      <th>size</th>\n",
       "      <th>total_sqft</th>\n",
       "      <th>bath</th>\n",
       "      <th>price</th>\n",
       "      <th>bhk</th>\n",
       "      <th>price_per_sqft</th>\n",
       "    </tr>\n",
       "  </thead>\n",
       "  <tbody>\n",
       "    <tr>\n",
       "      <th>3348</th>\n",
       "      <td>2.0</td>\n",
       "      <td>other</td>\n",
       "      <td>27 BHK</td>\n",
       "      <td>8000.0</td>\n",
       "      <td>27.0</td>\n",
       "      <td>230.0</td>\n",
       "      <td>27</td>\n",
       "      <td>2875.000000</td>\n",
       "    </tr>\n",
       "    <tr>\n",
       "      <th>4311</th>\n",
       "      <td>2.0</td>\n",
       "      <td>other</td>\n",
       "      <td>10 BHK</td>\n",
       "      <td>12000.0</td>\n",
       "      <td>12.0</td>\n",
       "      <td>525.0</td>\n",
       "      <td>10</td>\n",
       "      <td>4375.000000</td>\n",
       "    </tr>\n",
       "    <tr>\n",
       "      <th>4658</th>\n",
       "      <td>2.0</td>\n",
       "      <td>other</td>\n",
       "      <td>16 BHK</td>\n",
       "      <td>10000.0</td>\n",
       "      <td>16.0</td>\n",
       "      <td>550.0</td>\n",
       "      <td>16</td>\n",
       "      <td>5500.000000</td>\n",
       "    </tr>\n",
       "    <tr>\n",
       "      <th>7512</th>\n",
       "      <td>2.0</td>\n",
       "      <td>other</td>\n",
       "      <td>11 BHK</td>\n",
       "      <td>6000.0</td>\n",
       "      <td>12.0</td>\n",
       "      <td>150.0</td>\n",
       "      <td>11</td>\n",
       "      <td>2500.000000</td>\n",
       "    </tr>\n",
       "    <tr>\n",
       "      <th>8833</th>\n",
       "      <td>2.0</td>\n",
       "      <td>other</td>\n",
       "      <td>13 BHK</td>\n",
       "      <td>5425.0</td>\n",
       "      <td>13.0</td>\n",
       "      <td>275.0</td>\n",
       "      <td>13</td>\n",
       "      <td>5069.124424</td>\n",
       "    </tr>\n",
       "  </tbody>\n",
       "</table>\n",
       "</div>"
      ],
      "text/plain": [
       "      area_type location    size  total_sqft  bath  price  bhk  price_per_sqft\n",
       "3348        2.0    other  27 BHK      8000.0  27.0  230.0   27     2875.000000\n",
       "4311        2.0    other  10 BHK     12000.0  12.0  525.0   10     4375.000000\n",
       "4658        2.0    other  16 BHK     10000.0  16.0  550.0   16     5500.000000\n",
       "7512        2.0    other  11 BHK      6000.0  12.0  150.0   11     2500.000000\n",
       "8833        2.0    other  13 BHK      5425.0  13.0  275.0   13     5069.124424"
      ]
     },
     "execution_count": 338,
     "metadata": {},
     "output_type": "execute_result"
    }
   ],
   "source": [
    "#Houses having more than 10 bathrooms\n",
    "df8[df8['bath'] > 10]"
   ]
  },
  {
   "attachments": {},
   "cell_type": "markdown",
   "id": "287fdd9c",
   "metadata": {
    "papermill": {
     "duration": 0.023398,
     "end_time": "2022-10-29T14:26:10.752570",
     "exception": false,
     "start_time": "2022-10-29T14:26:10.729172",
     "status": "completed"
    },
    "tags": []
   },
   "source": [
    "Let's suppose that we have a 2bhk house and it has 5 bathrooms, it will be very unusual for a house in Bengaluru. To remove these kind of outliers we will assume a condition that a 1 bhk house can have atmost 3 bathrooms. "
   ]
  },
  {
   "cell_type": "code",
   "execution_count": 339,
   "id": "1b10b2aa",
   "metadata": {
    "execution": {
     "iopub.execute_input": "2022-10-29T14:26:10.805601Z",
     "iopub.status.busy": "2022-10-29T14:26:10.804957Z",
     "iopub.status.idle": "2022-10-29T14:26:10.818636Z",
     "shell.execute_reply": "2022-10-29T14:26:10.817308Z"
    },
    "papermill": {
     "duration": 0.042377,
     "end_time": "2022-10-29T14:26:10.820744",
     "exception": false,
     "start_time": "2022-10-29T14:26:10.778367",
     "status": "completed"
    },
    "tags": []
   },
   "outputs": [
    {
     "data": {
      "text/html": [
       "<div>\n",
       "<style scoped>\n",
       "    .dataframe tbody tr th:only-of-type {\n",
       "        vertical-align: middle;\n",
       "    }\n",
       "\n",
       "    .dataframe tbody tr th {\n",
       "        vertical-align: top;\n",
       "    }\n",
       "\n",
       "    .dataframe thead th {\n",
       "        text-align: right;\n",
       "    }\n",
       "</style>\n",
       "<table border=\"1\" class=\"dataframe\">\n",
       "  <thead>\n",
       "    <tr style=\"text-align: right;\">\n",
       "      <th></th>\n",
       "      <th>area_type</th>\n",
       "      <th>location</th>\n",
       "      <th>size</th>\n",
       "      <th>total_sqft</th>\n",
       "      <th>bath</th>\n",
       "      <th>price</th>\n",
       "      <th>bhk</th>\n",
       "      <th>price_per_sqft</th>\n",
       "    </tr>\n",
       "  </thead>\n",
       "  <tbody>\n",
       "    <tr>\n",
       "      <th>1366</th>\n",
       "      <td>2.0</td>\n",
       "      <td>Thanisandra</td>\n",
       "      <td>3 BHK</td>\n",
       "      <td>1806.0</td>\n",
       "      <td>6.0</td>\n",
       "      <td>116.0</td>\n",
       "      <td>3</td>\n",
       "      <td>6423.034330</td>\n",
       "    </tr>\n",
       "    <tr>\n",
       "      <th>9776</th>\n",
       "      <td>0.0</td>\n",
       "      <td>other</td>\n",
       "      <td>4 Bedroom</td>\n",
       "      <td>7000.0</td>\n",
       "      <td>8.0</td>\n",
       "      <td>450.0</td>\n",
       "      <td>4</td>\n",
       "      <td>6428.571429</td>\n",
       "    </tr>\n",
       "  </tbody>\n",
       "</table>\n",
       "</div>"
      ],
      "text/plain": [
       "      area_type     location       size  total_sqft  bath  price  bhk  \\\n",
       "1366        2.0  Thanisandra      3 BHK      1806.0   6.0  116.0    3   \n",
       "9776        0.0        other  4 Bedroom      7000.0   8.0  450.0    4   \n",
       "\n",
       "      price_per_sqft  \n",
       "1366     6423.034330  \n",
       "9776     6428.571429  "
      ]
     },
     "execution_count": 339,
     "metadata": {},
     "output_type": "execute_result"
    }
   ],
   "source": [
    "#House not satisfying our condition\n",
    "df8[df8.bath > (df8.bhk+2)]"
   ]
  },
  {
   "attachments": {},
   "cell_type": "markdown",
   "id": "9287af7a",
   "metadata": {
    "papermill": {
     "duration": 0.025165,
     "end_time": "2022-10-29T14:26:10.871656",
     "exception": false,
     "start_time": "2022-10-29T14:26:10.846491",
     "status": "completed"
    },
    "tags": []
   },
   "source": [
    "We will keep the hourses that satisfy our condition."
   ]
  },
  {
   "cell_type": "code",
   "execution_count": 340,
   "id": "a7280590",
   "metadata": {
    "execution": {
     "iopub.execute_input": "2022-10-29T14:26:10.922494Z",
     "iopub.status.busy": "2022-10-29T14:26:10.921837Z",
     "iopub.status.idle": "2022-10-29T14:26:10.929377Z",
     "shell.execute_reply": "2022-10-29T14:26:10.928133Z"
    },
    "papermill": {
     "duration": 0.034779,
     "end_time": "2022-10-29T14:26:10.931025",
     "exception": false,
     "start_time": "2022-10-29T14:26:10.896246",
     "status": "completed"
    },
    "tags": []
   },
   "outputs": [
    {
     "data": {
      "text/plain": [
       "(6032, 8)"
      ]
     },
     "execution_count": 340,
     "metadata": {},
     "output_type": "execute_result"
    }
   ],
   "source": [
    "#Removing houses not satisfying our condition\n",
    "df9 = df8[df8.bath< df8.bhk+2]\n",
    "df9.shape"
   ]
  },
  {
   "cell_type": "code",
   "execution_count": 341,
   "id": "f7a567bf",
   "metadata": {},
   "outputs": [
    {
     "data": {
      "text/plain": [
       "area_type         float64\n",
       "location           object\n",
       "size               object\n",
       "total_sqft        float64\n",
       "bath              float64\n",
       "price             float64\n",
       "bhk                 int64\n",
       "price_per_sqft    float64\n",
       "dtype: object"
      ]
     },
     "execution_count": 341,
     "metadata": {},
     "output_type": "execute_result"
    }
   ],
   "source": [
    "df9.dtypes"
   ]
  },
  {
   "cell_type": "code",
   "execution_count": 342,
   "id": "d81d8dac",
   "metadata": {},
   "outputs": [
    {
     "name": "stderr",
     "output_type": "stream",
     "text": [
      "C:\\Users\\ashiq\\AppData\\Local\\Temp/ipykernel_38228/577735911.py:1: SettingWithCopyWarning: \n",
      "A value is trying to be set on a copy of a slice from a DataFrame.\n",
      "Try using .loc[row_indexer,col_indexer] = value instead\n",
      "\n",
      "See the caveats in the documentation: https://pandas.pydata.org/pandas-docs/stable/user_guide/indexing.html#returning-a-view-versus-a-copy\n",
      "  df9['bath'] = df9['bath'].astype(int)\n"
     ]
    }
   ],
   "source": [
    "df9['bath'] = df9['bath'].astype(int)\n"
   ]
  },
  {
   "cell_type": "code",
   "execution_count": 343,
   "id": "44a9ae83",
   "metadata": {},
   "outputs": [
    {
     "data": {
      "text/plain": [
       "Text(0, 0.5, 'Count')"
      ]
     },
     "execution_count": 343,
     "metadata": {},
     "output_type": "execute_result"
    },
    {
     "data": {
      "image/png": "[encoded data removed]",
      "text/plain": [
       "<Figure size 1080x720 with 2 Axes>"
      ]
     },
     "metadata": {
      "needs_background": "light"
     },
     "output_type": "display_data"
    }
   ],
   "source": [
    "df9=df9[df9.bath<8]\n",
    "df9=df9[df9.bhk<7]\n",
    "#removing bhk and bath outliers\n",
    "#Plotting a histogram showing bathrooms\n",
    "plt.subplot(3,2,1)\n",
    "plt.hist(df9['bath'],bins=7 )\n",
    "plt.xlabel('Number Of Bathrooms')\n",
    "plt.ylabel('Count')\n",
    "\n",
    "plt.subplot(3,2,2)\n",
    "plt.hist(df9['bhk'],bins=6 )\n",
    "plt.xlabel('Number Of Bedrooms')\n",
    "plt.ylabel('Count')"
   ]
  },
  {
   "attachments": {},
   "cell_type": "markdown",
   "id": "a66468e2",
   "metadata": {
    "papermill": {
     "duration": 0.024282,
     "end_time": "2022-10-29T14:26:11.028426",
     "exception": false,
     "start_time": "2022-10-29T14:26:11.004144",
     "status": "completed"
    },
    "tags": []
   },
   "source": [
    "In our dataset we have a size column , but we have already bhk column. Also the price_per_sqft column was created to remove outliers. Now we have no use of size and price_per_sqft columns, therefore we will drop them."
   ]
  },
  {
   "cell_type": "code",
   "execution_count": 344,
   "id": "c367a1c4",
   "metadata": {
    "execution": {
     "iopub.execute_input": "2022-10-29T14:26:11.079789Z",
     "iopub.status.busy": "2022-10-29T14:26:11.079127Z",
     "iopub.status.idle": "2022-10-29T14:26:11.091791Z",
     "shell.execute_reply": "2022-10-29T14:26:11.090664Z"
    },
    "papermill": {
     "duration": 0.041413,
     "end_time": "2022-10-29T14:26:11.094325",
     "exception": false,
     "start_time": "2022-10-29T14:26:11.052912",
     "status": "completed"
    },
    "tags": []
   },
   "outputs": [
    {
     "data": {
      "text/html": [
       "<div>\n",
       "<style scoped>\n",
       "    .dataframe tbody tr th:only-of-type {\n",
       "        vertical-align: middle;\n",
       "    }\n",
       "\n",
       "    .dataframe tbody tr th {\n",
       "        vertical-align: top;\n",
       "    }\n",
       "\n",
       "    .dataframe thead th {\n",
       "        text-align: right;\n",
       "    }\n",
       "</style>\n",
       "<table border=\"1\" class=\"dataframe\">\n",
       "  <thead>\n",
       "    <tr style=\"text-align: right;\">\n",
       "      <th></th>\n",
       "      <th>area_type</th>\n",
       "      <th>location</th>\n",
       "      <th>total_sqft</th>\n",
       "      <th>bath</th>\n",
       "      <th>price</th>\n",
       "      <th>bhk</th>\n",
       "    </tr>\n",
       "  </thead>\n",
       "  <tbody>\n",
       "    <tr>\n",
       "      <th>1</th>\n",
       "      <td>2.0</td>\n",
       "      <td>Electronic City</td>\n",
       "      <td>1025.0</td>\n",
       "      <td>2</td>\n",
       "      <td>47.0</td>\n",
       "      <td>3</td>\n",
       "    </tr>\n",
       "    <tr>\n",
       "      <th>4</th>\n",
       "      <td>2.0</td>\n",
       "      <td>Electronic City</td>\n",
       "      <td>1500.0</td>\n",
       "      <td>2</td>\n",
       "      <td>64.5</td>\n",
       "      <td>3</td>\n",
       "    </tr>\n",
       "    <tr>\n",
       "      <th>5</th>\n",
       "      <td>0.0</td>\n",
       "      <td>Electronic City</td>\n",
       "      <td>1060.0</td>\n",
       "      <td>2</td>\n",
       "      <td>60.0</td>\n",
       "      <td>2</td>\n",
       "    </tr>\n",
       "    <tr>\n",
       "      <th>6</th>\n",
       "      <td>2.0</td>\n",
       "      <td>Electronic City</td>\n",
       "      <td>1152.0</td>\n",
       "      <td>2</td>\n",
       "      <td>64.5</td>\n",
       "      <td>2</td>\n",
       "    </tr>\n",
       "    <tr>\n",
       "      <th>8</th>\n",
       "      <td>0.0</td>\n",
       "      <td>Electronic City</td>\n",
       "      <td>770.0</td>\n",
       "      <td>1</td>\n",
       "      <td>36.0</td>\n",
       "      <td>2</td>\n",
       "    </tr>\n",
       "  </tbody>\n",
       "</table>\n",
       "</div>"
      ],
      "text/plain": [
       "   area_type         location  total_sqft  bath  price  bhk\n",
       "1        2.0  Electronic City      1025.0     2   47.0    3\n",
       "4        2.0  Electronic City      1500.0     2   64.5    3\n",
       "5        0.0  Electronic City      1060.0     2   60.0    2\n",
       "6        2.0  Electronic City      1152.0     2   64.5    2\n",
       "8        0.0  Electronic City       770.0     1   36.0    2"
      ]
     },
     "execution_count": 344,
     "metadata": {},
     "output_type": "execute_result"
    }
   ],
   "source": [
    "#Dropping size and price_per_sqft\n",
    "df10 = df9.drop(['size' , 'price_per_sqft'] , axis = 'columns')\n",
    "df10.head()"
   ]
  },
  {
   "cell_type": "code",
   "execution_count": 437,
   "id": "c7767c17",
   "metadata": {},
   "outputs": [],
   "source": [
    "grouped_data = df10.groupby('location')['price']\n",
    "mean_price = grouped_data.mean()\n",
    "median_price = grouped_data.median()\n"
   ]
  },
  {
   "cell_type": "code",
   "execution_count": 438,
   "id": "c6d54f6e",
   "metadata": {},
   "outputs": [
    {
     "data": {
      "image/png": "[encoded data removed]",
      "text/plain": [
       "<Figure size 864x360 with 1 Axes>"
      ]
     },
     "metadata": {
      "needs_background": "light"
     },
     "output_type": "display_data"
    }
   ],
   "source": [
    "plt.figure(figsize=(12, 5))\n",
    "mean_price.plot(kind='bar', color='blue', label='Mean Price')\n",
    "#median_price.plot(kind='bar', color='blue', label='Median Price')\n",
    "plt.xlabel('Location')\n",
    "plt.ylabel('Price')\n",
    "plt.title('Mean Prices by Location')\n",
    "plt.legend()\n",
    "plt.show()"
   ]
  },
  {
   "attachments": {},
   "cell_type": "markdown",
   "id": "12003e49",
   "metadata": {
    "papermill": {
     "duration": 0.023828,
     "end_time": "2022-10-29T14:26:11.143018",
     "exception": false,
     "start_time": "2022-10-29T14:26:11.119190",
     "status": "completed"
    },
    "tags": []
   },
   "source": [
    "### One - Hot Encoding"
   ]
  },
  {
   "attachments": {},
   "cell_type": "markdown",
   "id": "65efe382",
   "metadata": {
    "papermill": {
     "duration": 0.024365,
     "end_time": "2022-10-29T14:26:11.192147",
     "exception": false,
     "start_time": "2022-10-29T14:26:11.167782",
     "status": "completed"
    },
    "tags": []
   },
   "source": [
    "In our dataset we have location column which is not numeric we know that our machine learning models work on numeric data only.We will convert the data in location column to numeric data using one - hot encoding."
   ]
  },
  {
   "cell_type": "code",
   "execution_count": 345,
   "id": "7653c9a2",
   "metadata": {
    "execution": {
     "iopub.execute_input": "2022-10-29T14:26:11.242352Z",
     "iopub.status.busy": "2022-10-29T14:26:11.241933Z",
     "iopub.status.idle": "2022-10-29T14:26:11.270388Z",
     "shell.execute_reply": "2022-10-29T14:26:11.269609Z"
    },
    "papermill": {
     "duration": 0.05552,
     "end_time": "2022-10-29T14:26:11.272157",
     "exception": false,
     "start_time": "2022-10-29T14:26:11.216637",
     "status": "completed"
    },
    "tags": []
   },
   "outputs": [
    {
     "data": {
      "text/html": [
       "<div>\n",
       "<style scoped>\n",
       "    .dataframe tbody tr th:only-of-type {\n",
       "        vertical-align: middle;\n",
       "    }\n",
       "\n",
       "    .dataframe tbody tr th {\n",
       "        vertical-align: top;\n",
       "    }\n",
       "\n",
       "    .dataframe thead th {\n",
       "        text-align: right;\n",
       "    }\n",
       "</style>\n",
       "<table border=\"1\" class=\"dataframe\">\n",
       "  <thead>\n",
       "    <tr style=\"text-align: right;\">\n",
       "      <th></th>\n",
       "      <th>Electronic City</th>\n",
       "      <th>Hebbal</th>\n",
       "      <th>Kanakpura Road</th>\n",
       "      <th>Marathahalli</th>\n",
       "      <th>Raja Rajeshwari Nagar</th>\n",
       "      <th>Sarjapur  Road</th>\n",
       "      <th>Thanisandra</th>\n",
       "      <th>Uttarahalli</th>\n",
       "      <th>Whitefield</th>\n",
       "      <th>Yelahanka</th>\n",
       "      <th>other</th>\n",
       "    </tr>\n",
       "  </thead>\n",
       "  <tbody>\n",
       "    <tr>\n",
       "      <th>1</th>\n",
       "      <td>1</td>\n",
       "      <td>0</td>\n",
       "      <td>0</td>\n",
       "      <td>0</td>\n",
       "      <td>0</td>\n",
       "      <td>0</td>\n",
       "      <td>0</td>\n",
       "      <td>0</td>\n",
       "      <td>0</td>\n",
       "      <td>0</td>\n",
       "      <td>0</td>\n",
       "    </tr>\n",
       "    <tr>\n",
       "      <th>4</th>\n",
       "      <td>1</td>\n",
       "      <td>0</td>\n",
       "      <td>0</td>\n",
       "      <td>0</td>\n",
       "      <td>0</td>\n",
       "      <td>0</td>\n",
       "      <td>0</td>\n",
       "      <td>0</td>\n",
       "      <td>0</td>\n",
       "      <td>0</td>\n",
       "      <td>0</td>\n",
       "    </tr>\n",
       "    <tr>\n",
       "      <th>5</th>\n",
       "      <td>1</td>\n",
       "      <td>0</td>\n",
       "      <td>0</td>\n",
       "      <td>0</td>\n",
       "      <td>0</td>\n",
       "      <td>0</td>\n",
       "      <td>0</td>\n",
       "      <td>0</td>\n",
       "      <td>0</td>\n",
       "      <td>0</td>\n",
       "      <td>0</td>\n",
       "    </tr>\n",
       "  </tbody>\n",
       "</table>\n",
       "</div>"
      ],
      "text/plain": [
       "   Electronic City  Hebbal  Kanakpura Road  Marathahalli  \\\n",
       "1                1       0               0             0   \n",
       "4                1       0               0             0   \n",
       "5                1       0               0             0   \n",
       "\n",
       "   Raja Rajeshwari Nagar  Sarjapur  Road  Thanisandra  Uttarahalli  \\\n",
       "1                      0               0            0            0   \n",
       "4                      0               0            0            0   \n",
       "5                      0               0            0            0   \n",
       "\n",
       "   Whitefield  Yelahanka  other  \n",
       "1           0          0      0  \n",
       "4           0          0      0  \n",
       "5           0          0      0  "
      ]
     },
     "execution_count": 345,
     "metadata": {},
     "output_type": "execute_result"
    }
   ],
   "source": [
    "#One- hot encoding\n",
    "dummies = pd.get_dummies(df10['location'])\n",
    "dummies.head(3)"
   ]
  },
  {
   "attachments": {},
   "cell_type": "markdown",
   "id": "dbb18d11",
   "metadata": {
    "papermill": {
     "duration": 0.024658,
     "end_time": "2022-10-29T14:26:11.321541",
     "exception": false,
     "start_time": "2022-10-29T14:26:11.296883",
     "status": "completed"
    },
    "tags": []
   },
   "source": [
    "We can see in the above DataFrame that our locations data is in numeric form."
   ]
  },
  {
   "attachments": {},
   "cell_type": "markdown",
   "id": "a550a730",
   "metadata": {
    "execution": {
     "iopub.execute_input": "2022-10-29T14:26:11.383295Z",
     "iopub.status.busy": "2022-10-29T14:26:11.382612Z",
     "iopub.status.idle": "2022-10-29T14:26:11.404865Z",
     "shell.execute_reply": "2022-10-29T14:26:11.404220Z"
    },
    "papermill": {
     "duration": 0.057619,
     "end_time": "2022-10-29T14:26:11.407782",
     "exception": false,
     "start_time": "2022-10-29T14:26:11.350163",
     "status": "completed"
    },
    "tags": []
   },
   "source": [
    "#### Combining df10 and dummies\n",
    "df11 = pd.concat([df10 , dummies.drop('other' , axis = 'columns')] , axis = 'columns')\n",
    "df11.head()"
   ]
  },
  {
   "cell_type": "code",
   "execution_count": 346,
   "id": "338a96a6",
   "metadata": {},
   "outputs": [
    {
     "data": {
      "text/html": [
       "<div>\n",
       "<style scoped>\n",
       "    .dataframe tbody tr th:only-of-type {\n",
       "        vertical-align: middle;\n",
       "    }\n",
       "\n",
       "    .dataframe tbody tr th {\n",
       "        vertical-align: top;\n",
       "    }\n",
       "\n",
       "    .dataframe thead th {\n",
       "        text-align: right;\n",
       "    }\n",
       "</style>\n",
       "<table border=\"1\" class=\"dataframe\">\n",
       "  <thead>\n",
       "    <tr style=\"text-align: right;\">\n",
       "      <th></th>\n",
       "      <th>area_type</th>\n",
       "      <th>location</th>\n",
       "      <th>total_sqft</th>\n",
       "      <th>bath</th>\n",
       "      <th>price</th>\n",
       "      <th>bhk</th>\n",
       "      <th>Electronic City</th>\n",
       "      <th>Hebbal</th>\n",
       "      <th>Kanakpura Road</th>\n",
       "      <th>Marathahalli</th>\n",
       "      <th>Raja Rajeshwari Nagar</th>\n",
       "      <th>Sarjapur  Road</th>\n",
       "      <th>Thanisandra</th>\n",
       "      <th>Uttarahalli</th>\n",
       "      <th>Whitefield</th>\n",
       "      <th>Yelahanka</th>\n",
       "      <th>other</th>\n",
       "    </tr>\n",
       "  </thead>\n",
       "  <tbody>\n",
       "    <tr>\n",
       "      <th>1</th>\n",
       "      <td>2.0</td>\n",
       "      <td>Electronic City</td>\n",
       "      <td>1025.0</td>\n",
       "      <td>2</td>\n",
       "      <td>47.0</td>\n",
       "      <td>3</td>\n",
       "      <td>1</td>\n",
       "      <td>0</td>\n",
       "      <td>0</td>\n",
       "      <td>0</td>\n",
       "      <td>0</td>\n",
       "      <td>0</td>\n",
       "      <td>0</td>\n",
       "      <td>0</td>\n",
       "      <td>0</td>\n",
       "      <td>0</td>\n",
       "      <td>0</td>\n",
       "    </tr>\n",
       "    <tr>\n",
       "      <th>4</th>\n",
       "      <td>2.0</td>\n",
       "      <td>Electronic City</td>\n",
       "      <td>1500.0</td>\n",
       "      <td>2</td>\n",
       "      <td>64.5</td>\n",
       "      <td>3</td>\n",
       "      <td>1</td>\n",
       "      <td>0</td>\n",
       "      <td>0</td>\n",
       "      <td>0</td>\n",
       "      <td>0</td>\n",
       "      <td>0</td>\n",
       "      <td>0</td>\n",
       "      <td>0</td>\n",
       "      <td>0</td>\n",
       "      <td>0</td>\n",
       "      <td>0</td>\n",
       "    </tr>\n",
       "    <tr>\n",
       "      <th>5</th>\n",
       "      <td>0.0</td>\n",
       "      <td>Electronic City</td>\n",
       "      <td>1060.0</td>\n",
       "      <td>2</td>\n",
       "      <td>60.0</td>\n",
       "      <td>2</td>\n",
       "      <td>1</td>\n",
       "      <td>0</td>\n",
       "      <td>0</td>\n",
       "      <td>0</td>\n",
       "      <td>0</td>\n",
       "      <td>0</td>\n",
       "      <td>0</td>\n",
       "      <td>0</td>\n",
       "      <td>0</td>\n",
       "      <td>0</td>\n",
       "      <td>0</td>\n",
       "    </tr>\n",
       "    <tr>\n",
       "      <th>6</th>\n",
       "      <td>2.0</td>\n",
       "      <td>Electronic City</td>\n",
       "      <td>1152.0</td>\n",
       "      <td>2</td>\n",
       "      <td>64.5</td>\n",
       "      <td>2</td>\n",
       "      <td>1</td>\n",
       "      <td>0</td>\n",
       "      <td>0</td>\n",
       "      <td>0</td>\n",
       "      <td>0</td>\n",
       "      <td>0</td>\n",
       "      <td>0</td>\n",
       "      <td>0</td>\n",
       "      <td>0</td>\n",
       "      <td>0</td>\n",
       "      <td>0</td>\n",
       "    </tr>\n",
       "    <tr>\n",
       "      <th>8</th>\n",
       "      <td>0.0</td>\n",
       "      <td>Electronic City</td>\n",
       "      <td>770.0</td>\n",
       "      <td>1</td>\n",
       "      <td>36.0</td>\n",
       "      <td>2</td>\n",
       "      <td>1</td>\n",
       "      <td>0</td>\n",
       "      <td>0</td>\n",
       "      <td>0</td>\n",
       "      <td>0</td>\n",
       "      <td>0</td>\n",
       "      <td>0</td>\n",
       "      <td>0</td>\n",
       "      <td>0</td>\n",
       "      <td>0</td>\n",
       "      <td>0</td>\n",
       "    </tr>\n",
       "  </tbody>\n",
       "</table>\n",
       "</div>"
      ],
      "text/plain": [
       "   area_type         location  total_sqft  bath  price  bhk  Electronic City  \\\n",
       "1        2.0  Electronic City      1025.0     2   47.0    3                1   \n",
       "4        2.0  Electronic City      1500.0     2   64.5    3                1   \n",
       "5        0.0  Electronic City      1060.0     2   60.0    2                1   \n",
       "6        2.0  Electronic City      1152.0     2   64.5    2                1   \n",
       "8        0.0  Electronic City       770.0     1   36.0    2                1   \n",
       "\n",
       "   Hebbal  Kanakpura Road  Marathahalli  Raja Rajeshwari Nagar  \\\n",
       "1       0               0             0                      0   \n",
       "4       0               0             0                      0   \n",
       "5       0               0             0                      0   \n",
       "6       0               0             0                      0   \n",
       "8       0               0             0                      0   \n",
       "\n",
       "   Sarjapur  Road  Thanisandra  Uttarahalli  Whitefield  Yelahanka  other  \n",
       "1               0            0            0           0          0      0  \n",
       "4               0            0            0           0          0      0  \n",
       "5               0            0            0           0          0      0  \n",
       "6               0            0            0           0          0      0  \n",
       "8               0            0            0           0          0      0  "
      ]
     },
     "execution_count": 346,
     "metadata": {},
     "output_type": "execute_result"
    }
   ],
   "source": [
    "df11 = pd.concat([df10 , dummies] , axis = 'columns') \n",
    "df11.head()"
   ]
  },
  {
   "cell_type": "code",
   "execution_count": 347,
   "id": "1d0944fe",
   "metadata": {
    "execution": {
     "iopub.execute_input": "2022-10-29T14:26:11.466902Z",
     "iopub.status.busy": "2022-10-29T14:26:11.466555Z",
     "iopub.status.idle": "2022-10-29T14:26:11.489778Z",
     "shell.execute_reply": "2022-10-29T14:26:11.488506Z"
    },
    "papermill": {
     "duration": 0.054669,
     "end_time": "2022-10-29T14:26:11.492016",
     "exception": false,
     "start_time": "2022-10-29T14:26:11.437347",
     "status": "completed"
    },
    "tags": []
   },
   "outputs": [
    {
     "data": {
      "text/html": [
       "<div>\n",
       "<style scoped>\n",
       "    .dataframe tbody tr th:only-of-type {\n",
       "        vertical-align: middle;\n",
       "    }\n",
       "\n",
       "    .dataframe tbody tr th {\n",
       "        vertical-align: top;\n",
       "    }\n",
       "\n",
       "    .dataframe thead th {\n",
       "        text-align: right;\n",
       "    }\n",
       "</style>\n",
       "<table border=\"1\" class=\"dataframe\">\n",
       "  <thead>\n",
       "    <tr style=\"text-align: right;\">\n",
       "      <th></th>\n",
       "      <th>area_type</th>\n",
       "      <th>total_sqft</th>\n",
       "      <th>bath</th>\n",
       "      <th>price</th>\n",
       "      <th>bhk</th>\n",
       "      <th>Electronic City</th>\n",
       "      <th>Hebbal</th>\n",
       "      <th>Kanakpura Road</th>\n",
       "      <th>Marathahalli</th>\n",
       "      <th>Raja Rajeshwari Nagar</th>\n",
       "      <th>Sarjapur  Road</th>\n",
       "      <th>Thanisandra</th>\n",
       "      <th>Uttarahalli</th>\n",
       "      <th>Whitefield</th>\n",
       "      <th>Yelahanka</th>\n",
       "      <th>other</th>\n",
       "    </tr>\n",
       "  </thead>\n",
       "  <tbody>\n",
       "    <tr>\n",
       "      <th>1</th>\n",
       "      <td>2.0</td>\n",
       "      <td>1025.0</td>\n",
       "      <td>2</td>\n",
       "      <td>47.0</td>\n",
       "      <td>3</td>\n",
       "      <td>1</td>\n",
       "      <td>0</td>\n",
       "      <td>0</td>\n",
       "      <td>0</td>\n",
       "      <td>0</td>\n",
       "      <td>0</td>\n",
       "      <td>0</td>\n",
       "      <td>0</td>\n",
       "      <td>0</td>\n",
       "      <td>0</td>\n",
       "      <td>0</td>\n",
       "    </tr>\n",
       "    <tr>\n",
       "      <th>4</th>\n",
       "      <td>2.0</td>\n",
       "      <td>1500.0</td>\n",
       "      <td>2</td>\n",
       "      <td>64.5</td>\n",
       "      <td>3</td>\n",
       "      <td>1</td>\n",
       "      <td>0</td>\n",
       "      <td>0</td>\n",
       "      <td>0</td>\n",
       "      <td>0</td>\n",
       "      <td>0</td>\n",
       "      <td>0</td>\n",
       "      <td>0</td>\n",
       "      <td>0</td>\n",
       "      <td>0</td>\n",
       "      <td>0</td>\n",
       "    </tr>\n",
       "    <tr>\n",
       "      <th>5</th>\n",
       "      <td>0.0</td>\n",
       "      <td>1060.0</td>\n",
       "      <td>2</td>\n",
       "      <td>60.0</td>\n",
       "      <td>2</td>\n",
       "      <td>1</td>\n",
       "      <td>0</td>\n",
       "      <td>0</td>\n",
       "      <td>0</td>\n",
       "      <td>0</td>\n",
       "      <td>0</td>\n",
       "      <td>0</td>\n",
       "      <td>0</td>\n",
       "      <td>0</td>\n",
       "      <td>0</td>\n",
       "      <td>0</td>\n",
       "    </tr>\n",
       "    <tr>\n",
       "      <th>6</th>\n",
       "      <td>2.0</td>\n",
       "      <td>1152.0</td>\n",
       "      <td>2</td>\n",
       "      <td>64.5</td>\n",
       "      <td>2</td>\n",
       "      <td>1</td>\n",
       "      <td>0</td>\n",
       "      <td>0</td>\n",
       "      <td>0</td>\n",
       "      <td>0</td>\n",
       "      <td>0</td>\n",
       "      <td>0</td>\n",
       "      <td>0</td>\n",
       "      <td>0</td>\n",
       "      <td>0</td>\n",
       "      <td>0</td>\n",
       "    </tr>\n",
       "    <tr>\n",
       "      <th>8</th>\n",
       "      <td>0.0</td>\n",
       "      <td>770.0</td>\n",
       "      <td>1</td>\n",
       "      <td>36.0</td>\n",
       "      <td>2</td>\n",
       "      <td>1</td>\n",
       "      <td>0</td>\n",
       "      <td>0</td>\n",
       "      <td>0</td>\n",
       "      <td>0</td>\n",
       "      <td>0</td>\n",
       "      <td>0</td>\n",
       "      <td>0</td>\n",
       "      <td>0</td>\n",
       "      <td>0</td>\n",
       "      <td>0</td>\n",
       "    </tr>\n",
       "  </tbody>\n",
       "</table>\n",
       "</div>"
      ],
      "text/plain": [
       "   area_type  total_sqft  bath  price  bhk  Electronic City  Hebbal  \\\n",
       "1        2.0      1025.0     2   47.0    3                1       0   \n",
       "4        2.0      1500.0     2   64.5    3                1       0   \n",
       "5        0.0      1060.0     2   60.0    2                1       0   \n",
       "6        2.0      1152.0     2   64.5    2                1       0   \n",
       "8        0.0       770.0     1   36.0    2                1       0   \n",
       "\n",
       "   Kanakpura Road  Marathahalli  Raja Rajeshwari Nagar  Sarjapur  Road  \\\n",
       "1               0             0                      0               0   \n",
       "4               0             0                      0               0   \n",
       "5               0             0                      0               0   \n",
       "6               0             0                      0               0   \n",
       "8               0             0                      0               0   \n",
       "\n",
       "   Thanisandra  Uttarahalli  Whitefield  Yelahanka  other  \n",
       "1            0            0           0          0      0  \n",
       "4            0            0           0          0      0  \n",
       "5            0            0           0          0      0  \n",
       "6            0            0           0          0      0  \n",
       "8            0            0           0          0      0  "
      ]
     },
     "execution_count": 347,
     "metadata": {},
     "output_type": "execute_result"
    }
   ],
   "source": [
    "#Dropping location column\n",
    "df12 = df11.drop('location' , axis = 'columns')\n",
    "df12.head()"
   ]
  },
  {
   "cell_type": "code",
   "execution_count": 348,
   "id": "3cfd21a5",
   "metadata": {},
   "outputs": [
    {
     "data": {
      "text/plain": [
       "2.0    4287\n",
       "0.0    1078\n",
       "1.0     643\n",
       "Name: area_type, dtype: int64"
      ]
     },
     "execution_count": 348,
     "metadata": {},
     "output_type": "execute_result"
    }
   ],
   "source": [
    "df12['area_type'].value_counts()"
   ]
  },
  {
   "cell_type": "code",
   "execution_count": 350,
   "id": "0dba6edc",
   "metadata": {
    "execution": {
     "iopub.execute_input": "2022-10-29T14:26:11.611598Z",
     "iopub.status.busy": "2022-10-29T14:26:11.611096Z",
     "iopub.status.idle": "2022-10-29T14:26:11.637844Z",
     "shell.execute_reply": "2022-10-29T14:26:11.636442Z"
    },
    "papermill": {
     "duration": 0.059337,
     "end_time": "2022-10-29T14:26:11.640021",
     "exception": false,
     "start_time": "2022-10-29T14:26:11.580684",
     "status": "completed"
    },
    "tags": []
   },
   "outputs": [],
   "source": [
    "#Dropping price column\n",
    "df12.to_csv(\"processed_data.csv\", index=False)\n"
   ]
  }
 ],
 "metadata": {
  "kernelspec": {
   "display_name": "Python 3 (ipykernel)",
   "language": "python",
   "name": "python3"
  },
  "language_info": {
   "codemirror_mode": {
    "name": "ipython",
    "version": 3
   },
   "file_extension": ".py",
   "mimetype": "text/x-python",
   "name": "python",
   "nbconvert_exporter": "python",
   "pygments_lexer": "ipython3",
   "version": "3.9.7"
  },
  "papermill": {
   "default_parameters": {},
   "duration": 24.320212,
   "end_time": "2022-10-29T14:26:21.170857",
   "environment_variables": {},
   "exception": null,
   "input_path": "__notebook__.ipynb",
   "output_path": "__notebook__.ipynb",
   "parameters": {},
   "start_time": "2022-10-29T14:25:56.850645",
   "version": "2.3.4"
  }
 },
 "nbformat": 4,
 "nbformat_minor": 5
}
